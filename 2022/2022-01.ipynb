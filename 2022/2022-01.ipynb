{
 "cells": [
  {
   "cell_type": "markdown",
   "metadata": {},
   "source": [
    "# Esercizio 1\n",
    "\n",
    "## Quesito 1\n",
    "I valori che può assumere $X$ sono da {$0, ..., n$}."
   ]
  },
  {
   "cell_type": "markdown",
   "metadata": {
    "vscode": {
     "languageId": "plaintext"
    }
   },
   "source": [
    "## Quesito 2\n",
    "\n",
    "Per $n$ fissato, $E[X]$ è pari a $np$.  \n",
    "\n",
    "$Var(X)$ è uguale a $np * (1 -p)$."
   ]
  },
  {
   "cell_type": "markdown",
   "metadata": {},
   "source": [
    "## Quesito 3\n"
   ]
  }
 ],
 "metadata": {
  "language_info": {
   "name": "python"
  }
 },
 "nbformat": 4,
 "nbformat_minor": 2
}
