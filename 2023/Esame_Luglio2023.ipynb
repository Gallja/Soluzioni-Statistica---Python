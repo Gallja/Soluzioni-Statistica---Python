{
 "cells": [
  {
   "cell_type": "markdown",
   "id": "3f69446a",
   "metadata": {},
   "source": [
    "# Esercizio 1"
   ]
  },
  {
   "cell_type": "markdown",
   "id": "b057335f",
   "metadata": {},
   "source": [
    "Dati:  \n",
    "$a = [0,3]$ e  \n",
    "$f_{X}(a, x)=(ax^2 + 1 - \\frac{a}{3}) * I_{[0,1]} (x)$"
   ]
  },
  {
   "cell_type": "markdown",
   "id": "2a6c3a2f",
   "metadata": {},
   "source": [
    "## Quesito 1:\n",
    "\n",
    "**Dimostrare** che $f$ è la **_funzione di densità_** di una variabile aleatoria continua, parametrizzata rispetto ad $a$  \n",
    "\n",
    "Per farlo bisogna:  \n",
    "- Verificare che _l'integrale da 0 a 1 (estremi della **funzione indicatrice**) di_ $f_{X}(x)$ sia pari a **1**;\n",
    "- Verificare che la funzione sia **sempre positiva**.\n",
    "\n",
    "**CALCOLO DELL'INTEGRALE:**  \n",
    "\n",
    "$\\int_{0}^{1} f_{X}(x) dx = \\int_{0}^{1} ax^2 + 1 - \\frac{a}{3} dx = a \\cdot \\int_{0}^{1} x^{2} dx + \\int_{0}^{1} 1 dx - \\frac{a}{3} \\int_{0}^{1} 1 dx = a \\cdot \\frac{x^{3}}{3} |_{0}^{1} + x|_{0}^{1} - \\frac{a}{3} x|_{0}^{1} = \\frac{a}{3} + 1 - \\frac{a}{3} = 1 $  \n",
    "\n",
    "**POSITIVITÀ DELLA FUNZIONE:**  \n",
    "\n",
    "$ax^2 + 1 - \\frac{a}{3} \\geq 0$ ricordando che $a$ è compreso all'interno dell'intervallo $[0, 3] \\Rightarrow$  \n",
    "$\\Rightarrow f_X(x) > 0$ $\\forall{x \\in R \\land a = [0, 3]} $   \n"
   ]
  },
  {
   "cell_type": "markdown",
   "id": "6b043930",
   "metadata": {},
   "source": [
    "## Quesito 2:\n",
    "\n",
    "Supponendo solo in questo punto che $a = \\frac{5}{2}$, tracciare il grafico di $f$:"
   ]
  },
  {
   "cell_type": "code",
   "execution_count": 1,
   "id": "93d87e4a",
   "metadata": {},
   "outputs": [
    {
     "data": {
      "image/png": "[encoded data removed]",
      "text/plain": [
       "<Figure size 640x480 with 1 Axes>"
      ]
     },
     "metadata": {},
     "output_type": "display_data"
    }
   ],
   "source": [
    "import numpy as np\n",
    "import matplotlib.pyplot as plt\n",
    "\n",
    "# definire la funzione\n",
    "def f(x, a):\n",
    "    return a*x**2 + 1 - a / 3\n",
    "\n",
    "# definire il valore di a\n",
    "a = 5 / 2 # valore dato dalla traccia\n",
    "\n",
    "# generare i dati per il grafico\n",
    "x = np.arange(0, 1, 0.1) # intervallo di valori per x\n",
    "\n",
    "# calcolo della funzione\n",
    "y = f(x, a)\n",
    "\n",
    "# creare il grafico\n",
    "plt.plot(x, y)\n",
    "\n",
    "# impostare etichette e titolo per il grafico\n",
    "plt.xlabel('X')\n",
    "plt.ylabel('f(x)')\n",
    "plt.title(f'Grafico di f(x) = ax^2 + 1 - a/3')\n",
    "# impostare il limite dell'asse y\n",
    "plt.ylim(0)\n",
    "\n",
    "# impostare il limite dell'asse x in base alla funzione indicatrice data dalla traccia\n",
    "plt.xlim(0, 1)\n",
    "\n",
    "# mostrare il grafico della funzione di densità\n",
    "plt.grid(True)\n",
    "plt.show()"
   ]
  },
  {
   "cell_type": "markdown",
   "id": "9e9bc867",
   "metadata": {},
   "source": [
    "Nel resto di questo esercizio supponiamo che $X$ sia una **_variabile aleatoria_** la cui *distribuzione è descritta dalla densità di probabilità di* $f$."
   ]
  },
  {
   "cell_type": "markdown",
   "id": "c6cb774a",
   "metadata": {},
   "source": [
    "## Quesito 3:\n",
    "\n",
    "Qual è il **_supporto_** di $X$ ? \n",
    "\n",
    "Contando che siamo di fronte ad una **_variabile aleatoria continua_**, il **supporto** di $X$ è l'_intervallo_ specificato all'interno della **_funzione indicatrice_** che ci dà la traccia, quindi $[0, 1]$"
   ]
  },
  {
   "cell_type": "markdown",
   "id": "7e275453",
   "metadata": {},
   "source": [
    "## Quesito 4:\n",
    "\n",
    "Calcolare il **_valore atteso_** di $X$ esprimendolo in funzione di $a$.  \n",
    "\n",
    "Per calcolare il **valore atteso** di $X$ in funzione di $a$, bisogna applicare la formula per il **valore atteso** nel di una **_variabile aleatoria continua_**, avendo a disposizione la **_funzione di densità_**:  \n",
    "\n",
    "$\\int_{0}^{1} x \\cdot f_{X}(x) = \\int_{0}^{1} x \\cdot (ax^2 + 1 - \\frac{a}{3}) = \\int_{0}^{1} ax^3 + x - \\frac{ax}{3} dx = a \\int_{0}^{1} x^3 dx + \\int_{0}^{1} x dx - \\frac{a}{3} \\int_{0}^{1} x dx = $  \n",
    "$= a \\frac{x^4}{4}|_{0}^{1} + \\frac{x^2}{2}|_{0}^{1} - \\frac{a}{3} \\cdot \\frac{x^2}{2}|_{0}^{1} = \\frac{a}{4} + \\frac{1}{2} - \\frac{a}{6} = \\frac{3a + 6 -2a}{12} = \\frac{a + 6}{12} $"
   ]
  },
  {
   "cell_type": "markdown",
   "id": "d92cf510",
   "metadata": {},
   "source": [
    "## Quesito 5:\n",
    "\n",
    "La descrizione data di $f$ permette di dire che la distribuzione di $X$ è approssimabile in modo accettabile usando il **_teorema centrale del limite_**? Giustificare il ragionamento.  \n",
    "\n",
    "Prima di tutto, ricordiamo che le 3 clausole per l'applicazione del **_TLC_** sono le seguenti:  \n",
    "1. **INDIPENDENZA**: Le osservazioni del campione devono essere estratte **in modo indipendente l'una dall'altra**.  \n",
    "2. **DIMENSIONE DEL CAMPIONE**: Il **_TLC_** trova senso nella propria applicazione nel momento in cui la dimensione del campione $n$ diventa **sufficientemente grande**.  \n",
    "3. **VARIANZA FINITA**: Il valore relativo alla **_varianza_** della popolazione dalla quale viene estratto il campione **deve essere finito**.   \n",
    "\n",
    "Sappiamo inoltre che, grazie al **_teorema centrale del limite_**, l'approssimazione a partire da un campione di grande dimensione si formalizza così: $\\sum_{i=1}^{n}x_i \\sim N(n \\mu, \\sqrt{n}\\sigma)$  \n",
    "\n",
    "Proprio da questa formalizzazione con la **sommatoria**, intuisco che nel nostro caso $f_X$ **NON** è descritta in modo tale da permettere di dire che la distribuzione di $X$ sia approssimabile in modo accettabile usando il **_TLC_**."
   ]
  },
  {
   "cell_type": "markdown",
   "id": "8106725f",
   "metadata": {},
   "source": [
    "## Quesito 6:\n",
    "\n",
    "**Calcolate** la **forma analitica** della **_funzione di ripartizione_** di $X$, esprimendo i suoi valori in funzione dell'argomento indicato e del parametro $a$.\n",
    "\n",
    "In generale, sappiamo che per una **_variabile aleatoria continua_** $X$, la _forma analitica_ della **_funzione di ripartizione_** è la seguente (considerando, come probabilità di \"riferimento\" $P(X \\leq c)$ ed un intervallo continuo $[a, b]$ con $a \\leq c \\leq b$):  \n",
    "$\\int_{a}^{c} f_X(x) dx$  \n",
    "\n",
    "A questo punto, è possibile calcolare anche la _forma analitica_ della **_funzione di ripartizione_** dell'esercizio (considerando che la **_funzione indicatrice_** specifica l'intervallo $[0, 1]$):  \n",
    "\n",
    "$\\int_{0}^{x} f_X(u) du = \\int_{0}^{x} au^2 + 1 - \\frac{a}{3} du = a \\int_{0}^{x} u^2 du + \\int_{0}^{x} 1 du - \\frac{a}{3} \\int_{0}^{x} 1 du = a \\frac{u^3}{3}|_{0}^{1} + u|_{0}^{1} - \\frac{a}{3} u|_{0}^{1} = \\frac{ax^3}{3} + x + \\frac{ax}{3} = \\frac{ax^3 + 3x - ax}{3} $"
   ]
  },
  {
   "cell_type": "markdown",
   "id": "15646574",
   "metadata": {},
   "source": [
    "# Esercizio 2"
   ]
  },
  {
   "cell_type": "markdown",
   "id": "8b26f9b8",
   "metadata": {},
   "source": [
    "_Esercizio incentrato principalmente sugli **stimatori**_.\n",
    "\n",
    "Supponiamo che la variabile aleatoria $X$ definita nell'esercizio precedente descriva una popolazione dalla quale abbiamo estratto un campione modellato tramite $n$ **v.a.** $X_1, ..., X_n$"
   ]
  },
  {
   "cell_type": "markdown",
   "id": "b08b2022",
   "metadata": {},
   "source": [
    "## Quesito 1:\n",
    "\n",
    "Indichiamo con $T$ la **_media campionaria_** calcolata a partire da $X_1, ..., X_n$. Dimostrare che $T$ è in generale uno **_stimatore distorto_** per il parametro $a$.  \n",
    "\n",
    "Per capire quando uno **_stimatore_** è **distorto** per un certo parametro, è necessario sapere che:  \n",
    "$E[S] = T(\\theta)$, con:  \n",
    "- $S$ --> **Stimatore**  \n",
    "- $T(\\theta)$ --> **Valore da stimare**  \n",
    "\n",
    "A questo punto, utilizzo ciò che mi dà la traccia:  \n",
    "$E[T] = a$ e verifico questa uguaglianza:\n",
    "- **_UGUAGLIANZA VERA_**: si tratta di uno **stimatore _NON_ distorto**. \n",
    "- **_UGUAGLIANZA FALSA_**: si tratta di uno **stimatore distorto**.  \n",
    "\n",
    "$E[T] = a \\Rightarrow E[\\bar{X}] = a \\Rightarrow$  \n",
    "$\\int_{0}^{1} x \\cdot f_X (x) dx = \\frac{a + 6}{12}$  \n",
    "\n",
    "$\\frac{a + 6}{12} \\neq a \\Rightarrow$ **stimatore _distorto_**.  \n",
    "\n"
   ]
  },
  {
   "cell_type": "markdown",
   "id": "cdb798f5",
   "metadata": {},
   "source": [
    "## Quesito 2:\n",
    "\n",
    "Applicando il metodo **plug-in**, ricavate uno stimatore $S$ che risulti non distorto per $a$.  \n",
    "\n",
    "Il metodo **_plug-in_** è necessario, nel momento in cui ho uno **stimatore _distorto_**, a \"correggerlo\" e renderlo **_NON_ distorto**.  \n",
    "In generale vale che:  \n",
    "$W = \\alpha T + \\beta$, con $W$ considerato come _\"nuovo stimatore\"_, frutto dell'applicazione del metodo.  \n",
    "\n",
    "Per quanto riguarda questo esercizio, mi basta semplicemente uguagliare lo **stimatore** trovato precedentemente a $S$.  \n",
    "\n",
    "$\\frac{a + 6}{12} = S \\Rightarrow a = S \\cdot 12 - 6$  \n",
    "\n",
    "Ricordando che $S = \\bar X \\Rightarrow \\bar X \\cdot 12 - 6$"
   ]
  },
  {
   "cell_type": "markdown",
   "id": "f5bacffe",
   "metadata": {},
   "source": [
    "## Quesito 3:\n",
    "\n",
    "Calcolate il **bias** rispetto ad $a$, dello stimatore $S$ che avete proposto al punto precedente.\n",
    "\n",
    "In generale, il **bias** si calcola così:  \n",
    "$b = E[S] - T(\\theta)$, ma nel nostro caso il **_valore atteso_** $E[S]$ è $E[W]$.  \n",
    "\n",
    "So inoltre che ciò che ho calcolato al punto precedente, ovvero $\\bar X \\cdot 12 - 6$, è $= a$.  \n",
    "\n",
    "Questa sottrazione deve obbligatoriamente essere pari a $0$ se $E[W]$ **_NON_ è deviato** e infatti:  \n",
    "$E[S] - T(\\theta) = E[S] - a = a - a = 0$"
   ]
  },
  {
   "cell_type": "markdown",
   "id": "b77b89a9",
   "metadata": {},
   "source": [
    "## Quesito 4:\n",
    "\n",
    "Calcolate lo _scarto quadratico medio_ (**_MSE_**), rispetto ad $a$, dello stimatore $S$ del punto 2 e determinate se questo gode della proprietà di _consistenza in media quadratica_.  \n",
    "\n",
    "**CALCOLO DELLO SCARTO QUADRATICO MEDIO:**  \n",
    "\n",
    "Per il calcolo dell'**_MSE_**, è necessario sommare il valore della **_varianza_** a quello del **_bias_** *elevato al quadrato*:  \n",
    "$MSE_t = Var(S) + b^2 = \\frac{Var(X)}{n} + b^2$    \n",
    "\n",
    "È quindi necessario calcolare il valore di $Var(X)$, sfruttando il $E[X]$ (calcolato nel quesito 4 dell'[esercizio 1](#esercizio-1)):  \n",
    "$Var(X) = E[X^2] - E[X]^2$  \n",
    "\n",
    "$E[X] = \\frac{a+6}{12} \\Rightarrow$  \n",
    "$\\Rightarrow E[X]^2 = (\\frac{a+6}{12})^2 = \\frac{a^2+12a+36}{144}$  \n",
    "\n",
    "$E[X^2] = \\int_{0}^{1} x^2 \\cdot f_X(x) dx = \\int_{0}^{1} x^2 \\cdot (ax^2 + 1 - \\frac{a}{3}) dx = \\int_{0}^{1} ax^3 + x^2 - \\frac{ax^2}{3} dx = a \\cdot \\int_{0}^{1} x^3 dx + \\int_{0}^{1} x^2 dx - \\frac{a}{3} \\cdot \\int_{0}^{1} x^2 dx =$  \n",
    "$= a \\cdot \\frac{x^4}{4}|_{0}^{1} + \\frac{x^3}{3}|_{0}^{1} - \\frac{a}{3} \\cdot \\frac{x^3}{3}|_{0}^{1} = \\frac{a}{4} + \\frac{1}{3} - \\frac{a}{9} = \\frac{9a+12-4a}{36} = \\frac{5a+12}{36}$  \n",
    "\n",
    "Ora posso calcolare il valore di $Var(X)$:  \n",
    "$Var(X) = E[X^2] - E[X]^2 = \\frac{5a+12}{36} - \\frac{a^2+12a+36}{144} = \\frac{4(5a+12) - a^2+12a+36}{144} = \\frac{20a+48 - a^2+12a+36}{144} = \\frac{-a^2+32a+84}{144}$  \n",
    "\n",
    "Ultimo passaggio: riprendere la formula iniziale di $MSE_t$ e sostituire con i valori calcolati.  \n",
    "\n",
    "$MSE_t = Var(S) + b^2 = \\frac{Var(X)}{n} + b^2 = \\frac{-a^2+32a+84}{144} \\cdot \\frac{1}{n} + (0)^2 = \\frac{-a^2+32a+84}{144n}$  \n",
    "\n",
    "**PROPRIETÀ DI CONSISTENZA IN MEDIA QUADRATICA:**  \n",
    "\n",
    "Mi basta calcolare il **limite per** $n$ **che tende a** $+\\infty$ dell'$MSE_t$:  \n",
    "\n",
    "$\\lim_{n \\to \\infty} MSE_t = \\lim_{n \\to \\infty} \\frac{-a^2+32a+84}{144n} = \\lim_{n \\to \\infty} \\frac{-a^2+32a+84}{\\infty} = 0$  \n",
    "\n",
    "**Conclusione:** Lo stimatore $S$ **_gode della proprietà di consistenza in media quadratica_**."
   ]
  },
  {
   "cell_type": "markdown",
   "id": "5e0010ec",
   "metadata": {},
   "source": [
    "## Quesito 5:\n",
    "\n",
    "Applicando il **_teorema centrale del limite_**, determinate un'approssimazione per la distribuzione dello stimatore $S$ proposto al punto 2, esprimendola in termini di $a$, **_deviazione standard_** e $n$, motivando il ragionamento.  \n",
    "\n",
    "Abbiamo già visto che, grazie al **_teorema centrale del limite_**, l'approssimazione a partire da un campione di grande dimensione si formalizza così: $\\sum_{i=1}^{n}x_i \\sim N(n \\mu, \\sqrt{n}\\sigma)$  \n",
    "\n",
    "Lo **_stimatore non distorto_** che abbiamo calcolato al quesito 2 è: $12\\bar X - 6$, quindi posso approssimare grazie al **_TLC_** nel seguente modo:  \n",
    "\n",
    "$(12 \\cdot \\frac{\\sum_{i=1}^{n}x_i}{n}) - 6 \\sim N(n \\mu \\cdot \\frac{12}{n} - 6, \\sqrt{n}\\sigma \\cdot \\frac{12}{n} - 6) \\Rightarrow$  \n",
    "\n",
    "$\\Rightarrow (12 \\cdot \\frac{\\sum_{i=1}^{n}x_i}{n}) - 6 \\sim N(12\\mu -6, \\frac{12\\sqrt{n}\\sigma}{n} - 6) \\Rightarrow (12 \\cdot \\frac{\\sum_{i=1}^{n}x_i}{n}) - 6 \\sim N(12\\mu -6, \\frac{12\\sigma}{\\sqrt{n}} - 6)$"
   ]
  },
  {
   "cell_type": "markdown",
   "id": "74f9143b",
   "metadata": {},
   "source": [
    "## Quesito 6:\n",
    "\n",
    "Fissato $\\epsilon > 0$, esprimete in funzione di $\\epsilon$, **_deviazione standard_** e $n$, la probabilità dell'evento che si verifica quando l'errore (in _valore assoluto_) che si compie usando $S$ per stimare $a \\leq \\epsilon$, giustificando i passaggi e eventuali approsimazioni che è necessario introdurre.  \n",
    "\n",
    "Ricordiamo che l'**errore dello stimatore** $S$ è dato dal seguente calcolo: $S - E[S] = S - \\mu $  \n",
    "Inoltre il **_valore atteso_** di $E[S] = E[12 \\cdot \\bar X - 6] \\Rightarrow$ per la proprietà di linearità del **_valore atteso_** $\\Rightarrow 12 \\cdot E[\\bar X]-6 = 12\\mu -6$\n",
    "\n",
    "Devo calcolare la seguente probabilità: $P(\\left|S - E[S] \\right| \\leq \\epsilon) \\Rightarrow$  \n",
    "$\\Rightarrow P(-\\epsilon \\leq S - E[S] \\leq \\epsilon) = P(-\\epsilon \\leq S - 12\\mu - 6 \\leq \\epsilon) \\Rightarrow$  \n",
    "\n",
    "$\\Rightarrow$ **devo stimare S**: $S \\sim N(12\\mu -6, \\frac{12\\sigma}{\\sqrt{n}} - 6) \\Rightarrow$  \n",
    "$\\Rightarrow$ devo **standardizzare** (cioè farla diventare una **_distribuzione normale standard_**) $S$ e avere **v.a.** $=0$ e **varianza** $=1$ $\\Rightarrow$  \n",
    "$\\Rightarrow Z = \\frac{S - 12\\mu -6}{\\frac{12\\sigma}{\\sqrt{n}}-6}$  \n",
    "\n",
    "Questo passaggio l'ho potuto effettuare proprio perché, data una qualsiasi **_varaibile aleatoria di distribuzione normale_**, posso calcolare la sua **standardizzazione** (che indico, ad esempio, con la lettera $Z$):  \n",
    "$Z = \\frac{X - \\mu}{\\sigma} = Z \\sim N(0, 1)$\n",
    "\n",
    "La **_funzione di ripartizione_** di $Z$ è, per definizione, $\\Phi$, quindi:  \n",
    "\n",
    "$P(-\\frac{\\epsilon}{\\frac{12\\sigma}{\\sqrt{n}}-6} \\leq \\frac{S - 12\\mu - 6}{\\frac{12\\sigma}{\\sqrt{n}}-6} \\leq \\frac{\\epsilon}{\\frac{12\\sigma}{\\sqrt{n}}-6}) =$  \n",
    "\n",
    "$= P(-\\frac{\\epsilon}{\\frac{12\\sigma}{\\sqrt{n}}-6} \\leq Z \\leq \\frac{\\epsilon}{\\frac{12\\sigma}{\\sqrt{n}}-6}) =$  \n",
    "\n",
    "$= \\Phi(\\frac{\\epsilon}{\\frac{12\\sigma}{\\sqrt{n}}-6}) - \\Phi(-\\frac{\\epsilon}{\\frac{12\\sigma}{\\sqrt{n}}-6}) \\Rightarrow$ posso riscrivere il secondo elemento della sottrazione:  \n",
    "\n",
    "$= \\Phi(\\frac{\\epsilon}{\\frac{12\\sigma}{\\sqrt{n}}-6}) - (1 -\\Phi(\\frac{\\epsilon}{\\frac{12\\sigma}{\\sqrt{n}}-6})) = 2 \\Phi(\\frac{\\epsilon}{\\frac{12\\sigma}{\\sqrt{n}}-6}) - 1$"
   ]
  },
  {
   "cell_type": "markdown",
   "id": "8833c5da",
   "metadata": {},
   "source": [
    "# Esercizio 3"
   ]
  },
  {
   "cell_type": "markdown",
   "id": "d6439cbe",
   "metadata": {},
   "source": [
    "Scaricare job-crash.csv, con il carattere ',' che separa le colonne, contiene informazioni raccolte da un ipotetico centro di elaborazione dati, relativamente al job la cui esecuzione è fallita:\n",
    "- **cpu-time**: tempo in cui il job è rimasto in esecuzione prima di fallire, misurato in secondi;\n",
    "- **perc-completed**: percentuale di completamento del job al momento del fallimento;\n",
    "- **is-admin**: valore binario che vale 1 se il job è stato eseguito da un utente con diritti di amministrazione e 0 altrimenti"
   ]
  },
  {
   "cell_type": "markdown",
   "id": "7904988f",
   "metadata": {},
   "source": [
    "1) Quali sono le durate minime e massime dei job contenuti nel dataset? Quali attributi contengono valori mancanti e nel caso quanti sono questi valori?"
   ]
  },
  {
   "cell_type": "markdown",
   "id": "0c685853",
   "metadata": {},
   "source": [
    "2) Valutare l'ipotesi che i valori dell'attributo cpu-time possano essere assimilati a un campione estratto da una popolazione distribuita secondo un modello normale, spiegando il ragionamento."
   ]
  },
  {
   "cell_type": "markdown",
   "id": "36716e5d",
   "metadata": {},
   "source": [
    "3) Valutare l'ipotesi che vi sia una relazione tra gli attributi cpu-time e perc-completed, motivando il procedimento effettuato e commentando i risultati ottenuti"
   ]
  },
  {
   "cell_type": "markdown",
   "id": "e1331a2b",
   "metadata": {},
   "source": [
    "4) (Prima metà della domanda vado a memoria) \n",
    "Creare 2 variabili job_admin e job_noadmin, dove rispettivamente metti tutte le righe che hanno isadmin uguale a 1, e le restanti nell'altro.\n",
    "Ripetere separatamente per queste 2 variabili l'analisi svolta nei punti 2 e 3 di questo esercizio, commentando i risulati ottenuti"
   ]
  },
  {
   "cell_type": "markdown",
   "id": "5eb6619b",
   "metadata": {},
   "source": [
    "5) Di che tipo è l'attributo perc-completed? Perché è adeguato visualizzare la sua distribuzione utilizzando un istogramma?"
   ]
  },
  {
   "cell_type": "markdown",
   "id": "a87603c2",
   "metadata": {},
   "source": [
    "6) (Prima metà della domanda vado a memoria) \n",
    "Per tutte e 3 le variabili(job, job_admin, job_noadmin): scegliere un numero di intervalli adeguato a visualizzare le distribuzioni e  avendo cura di utilizzare l'opzione 'density=True'. I risultati ottenuti evidenziano distribuzioni differenti per l'attributo nei 3 casi considetati?"
   ]
  },
  {
   "cell_type": "markdown",
   "id": "c26019ad",
   "metadata": {},
   "source": [
    "7) (Non sicuro al 100%, vale anche per le distribuzioni, ma il concetto è quello) Sulla base del punto precedente considerare se, e nel caso perché, segue una tra queste distribuzioni: geometrica, esponenziale, gaussiana, uniforme discreto"
   ]
  },
  {
   "cell_type": "markdown",
   "id": "d2225ca0",
   "metadata": {},
   "source": [
    "## Esercizio 4"
   ]
  },
  {
   "cell_type": "markdown",
   "id": "005e4c2c",
   "metadata": {},
   "source": [
    "In questo esercizio ci concentreremo sui valori dell'attributi perc-completed relativi all'intero dataset, e li interpreteremo come i valori assunti da un campione estratto da una popolazione distribuita come una variabile aleatoria X"
   ]
  },
  {
   "cell_type": "markdown",
   "id": "8d045a67",
   "metadata": {},
   "source": [
    "1) Quali argomentazioni potete portare per validare l'ipotesi che la distribuzione di X sia uguale a quella descritta dalla densità f definita nell'esercizio 1?"
   ]
  },
  {
   "cell_type": "markdown",
   "id": "cdd31548",
   "metadata": {},
   "source": [
    "2) Stimate il valore atteso E(X), specificando la dimensione del campione utilizzato e indicando eventuali proprietà dello stimatore utilizzato"
   ]
  },
  {
   "cell_type": "markdown",
   "id": "dedc0583",
   "metadata": {},
   "source": [
    "3) (Non era posta cosi ma il concetto era questo) Stimare 'a' utilizzando lo stimatore non distorto trovato nell'esercizio 1"
   ]
  },
  {
   "cell_type": "markdown",
   "id": "7f99b829",
   "metadata": {},
   "source": [
    "4) Utilizzate il valore stimato per 'a' per validare ulteriormente l'ipotesi che i valori dell'attributo perc-completed siano compatibili con densità f definita nell'esercizio 1"
   ]
  },
  {
   "cell_type": "markdown",
   "id": "cdcd9936",
   "metadata": {},
   "source": [
    "5) Vogliamo garantire che l'errore (in valore assoluto) fatto nella stima al punto 3 di questo esercizio sia minore o uguale di 'e' con probabilità almeno 0.9, quanto vale 'e'?"
   ]
  },
  {
   "cell_type": "markdown",
   "id": "f8c3d78b",
   "metadata": {},
   "source": [
    "(Vado a memoria per questa frase): Da qui consideriamo i job problematici, che sono quelli che hanno l'attributo di perc-completed tra il 50 e il 90 percento, estremi esclusi, e sono tra loro indipendenti"
   ]
  },
  {
   "cell_type": "markdown",
   "id": "3fa63573",
   "metadata": {},
   "source": [
    "6) (Anche per questa vado a memoria) Calcolare la probabilità che un job sia un job problematico"
   ]
  },
  {
   "cell_type": "markdown",
   "id": "511d2545",
   "metadata": {},
   "source": [
    "7) Calcolate la probabilità che cinque job differenti siano tutti problematici"
   ]
  },
  {
   "cell_type": "markdown",
   "id": "4e6bc728",
   "metadata": {},
   "source": [
    "8) Calcolate la probabilità che, dati cinque job differenti, almeno uno di essi sia problematico"
   ]
  }
 ],
 "metadata": {
  "kernelspec": {
   "display_name": "Python 3 (ipykernel)",
   "language": "python",
   "name": "python3"
  },
  "language_info": {
   "codemirror_mode": {
    "name": "ipython",
    "version": 3
   },
   "file_extension": ".py",
   "mimetype": "text/x-python",
   "name": "python",
   "nbconvert_exporter": "python",
   "pygments_lexer": "ipython3",
   "version": "3.12.3"
  }
 },
 "nbformat": 4,
 "nbformat_minor": 5
}
