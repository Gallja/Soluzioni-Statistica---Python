{
 "cells": [
  {
   "cell_type": "markdown",
   "metadata": {},
   "source": [
    "# Esercizio 1\n",
    "\n",
    "## Quesito 1\n",
    "Il numero di password possibili è di $10^5$, poiché ci sono 5 posizioni e 10 cifre per ogni posizione.\n",
    "\n",
    "## Quesito 2\n",
    "La probabilità che una password estratta a caso sia uguale a $p$ è $\\frac{1}{10^5}$.  \n",
    "\n",
    "## Quesito 3\n",
    "Il numero di password distinte che possono avere le prime 3 posizioni uguali sono in totale $10 * 10 * 10 = 1000 = 10^3$.  \n",
    "\n",
    "## Quesito 4\n",
    "Devo trovare il valore di $P(\\frac{1}{10^5} | \\frac{1}{10^3})$.  \n",
    "\n",
    "In generale, sappiamo che $P(A | B) = \\frac{P(A \\cap B)}{P(B)}$  \n",
    "\n",
    "Quindi, per l'esercizio $P(\\frac{1}{10^5} | \\frac{1}{10^3}) = \\frac{P(\\frac{1}{10^5} \\cap \\frac{1}{10^3})}{P(\\frac{1}{10^3})} = \\frac{1}{10^3}$"
   ]
  }
 ],
 "metadata": {
  "language_info": {
   "name": "python"
  }
 },
 "nbformat": 4,
 "nbformat_minor": 2
}
