{
 "cells": [
  {
   "cell_type": "markdown",
   "metadata": {},
   "source": [
    "# Esercizio 1\n",
    "\n",
    "## Quesito 1:\n",
    "Il numero di password possibili è di $10^5$, poiché ci sono 5 posizioni e 10 cifre per ogni posizione.\n",
    "\n",
    "## Quesito 2:\n",
    "La probabilità che una password estratta a caso sia uguale a $p$ è $\\frac{1}{10^5}$.  \n",
    "\n",
    "## Quesito 3:\n",
    "Il numero di password distinte che possono avere le prime 3 posizioni uguali sono in totale $10 * 10 * 10 = 1000 = 10^3$.  \n",
    "\n",
    "## Quesito 4:\n",
    "Devo trovare il valore di $P(\\frac{1}{10^5} | \\frac{1}{10^3})$.  \n",
    "\n",
    "In generale, sappiamo che $P(A | B) = \\frac{P(A \\cap B)}{P(B)}$  \n",
    "\n",
    "Quindi, per l'esercizio $P(\\frac{1}{10^5} | \\frac{1}{10^3}) = \\frac{P(\\frac{1}{10^5} \\cap \\frac{1}{10^3})}{P(\\frac{1}{10^3})} = \\frac{1}{10^3}$"
   ]
  },
  {
   "cell_type": "markdown",
   "metadata": {},
   "source": [
    "# Esercizio 2:\n",
    "\n",
    "$X ~G(h)$ **_variabile aleatoria_** con **distribuzione geometrica** con parametro $h$.  \n",
    "\n",
    "## Quesito 1:\n",
    "\n",
    "I valori di $x$ per cui ha senso calcolare $P(X > x)$ sono i **_numeri naturali_** ($\\forall n \\in N$), poiché con il **modello geometrico** _si ripete l'esperimento Bernoulliano in modo indipendente fino a quando non ho un successo_.  \n",
    "\n",
    "## Quesito 2:\n",
    "\n",
    "Calcolo di $P(X > x)$ in funzione di $h$: sapendo che la **_funzione di ripartizione_** è $F_X(x) = 1 - (1 - h)^{\\lfloor{x}\\rfloor +1} \\cdot I_{[0, +\\infty)}(x)$ e calcola ogni valore con $P(X \\leq x)$, devo \"ribaltare\" la probabilità.  \n",
    "\n",
    "Lo faccio così: $1 - (1 - (1 - h)^{x+1}) = (1 - h)^{\\lfloor{x}\\rfloor +1} \\cdot I_{[0, +\\infty)}(x)$\n",
    "\n",
    "## Quesito 3:\n",
    "\n",
    "La **_funzione di ripartizione_** $F_X(x)$ in funzione di $x$ e $h$ è quella trovata nell'ultimo passaggio del punto precedente, ovvero $F_X(x) = (1 - h)^{\\lfloor{x}\\rfloor +1} \\cdot I_{[0, +\\infty)}(x)$\n",
    "\n",
    "## Quesito 4:\n",
    "\n",
    "Disegnare il **grafico** di $F_X(x)$ con $h = \\frac{4}{10}$ (per questo esercizio è ragionevole utilizzare **_Python_**)."
   ]
  },
  {
   "cell_type": "code",
   "execution_count": 10,
   "metadata": {},
   "outputs": [
    {
     "data": {
      "image/png": "[encoded data removed]",
      "text/plain": [
       "<Figure size 640x480 with 1 Axes>"
      ]
     },
     "metadata": {},
     "output_type": "display_data"
    }
   ],
   "source": [
    "import numpy as np\n",
    "import matplotlib.pyplot as plt\n",
    "\n",
    "def F(x, h):\n",
    "    return 1 - (1 - h)**(np.floor(x) + 1)\n",
    "\n",
    "h = 4 / 10\n",
    "\n",
    "x = np.arange(0, 10, 0.01)\n",
    "\n",
    "y = F(x, h)\n",
    "\n",
    "plt.plot(x, y)\n",
    "\n",
    "plt.xlabel('X')\n",
    "plt.ylabel('F(x)')\n",
    "plt.title(f'Grafico di F(x)')\n",
    "\n",
    "plt.grid(True)\n",
    "plt.show()"
   ]
  },
  {
   "cell_type": "markdown",
   "metadata": {},
   "source": [
    "# Esercizio 3\n",
    "\n",
    "Con $n \\in N$, siano $X_1, X_2, …, X_n$ campione di **_variabili aleatorie indipendenti_** e identicamente distribuite secondo **modello geometrico** di parametro $h$. La distribuzione della popolazione è la stessa di $X$ dell’esercizio 2. Si consideri $\\mu = E(X)$ e $T = \\frac{1}{n} \\sum_{i=1}^{n} X_i$\n",
    "\n",
    "## Quesito 1:\n",
    "Per motivare se $T$ è uno **stimatore distorto o non distorto** per $\\mu$, devo fare il seguente ragionamento:  \n",
    "\n",
    "\"$E[T]$ è uguale a $\\mu$?\" Per rispondere a questa domanda eseguo 2 semplici passaggi:  \n",
    "\n",
    "$E[X] = \\mu$ implica che anche $E[T] = \\mu$ ? Ricordando che $T = \\frac{1}{n} \\sum_{i=1}^{n} X_i$.  \n",
    "\n",
    "Sfrutto la **proprietà di linearità del _valore atteso_**: $E[\\frac{1}{n} \\sum_{i=1}^{n} X_i] = \\frac{1}{n} E[\\sum_{i=1}^{n} X_i] = \\frac{1}{n} n E[X] = E[X] = \\mu$  \n",
    "\n",
    "Ho quindi **dimostrato che** $T$ **è uno _stimatore non distorto_ per** $\\mu$.  \n",
    "\n",
    "## Quesito 2:\n",
    "Per dimostrare che $T$ è uno **stimatore distorto o non distorto** per h, devo fare il seguente ragionamento:  \n",
    "\n",
    "\"$E[T]$ è uguale a $h$?\"  \n",
    "\n",
    "Sappiamo che, per il **_modello geometrico_**, abbiamo un **_valore atteso_** $E[X] = \\frac{1-h}{h}$, che è $\\neq h$.  \n",
    "\n",
    "Possiamo quindi concludere che $T$ **è uno _stimatore distorto_ per** $h$.\n",
    "\n",
    "## Quesito 3:\n",
    "1. Calcolo del **bias** di $T$ con stima del parametro $h$:  \n",
    "$b_n(T) = E[T] - h = \\frac{1-h}{h} - h = \\frac{1-h-h^2}{h}$  \n",
    "\n",
    "2. Calcolo dello **scarto quadratico medio** di $T$ con stima del parametro $h$:  \n",
    "$MSE_T = \\frac{Var(T)}{n} + b_n^2 \\Rightarrow$ sapendo che la **_varianza_ della media campionaria** $Var(\\bar X)$ è pari a $\\frac{Var(X)}{n}$, posso scrivere che:  \n",
    "$Var(\\bar X) + (\\frac{1-h-h^2}{h})^2 = \\frac{Var(X)}{n} + (\\frac{1-h-h^2}{h})^2$, dato che parliamo di **_distribuzione geometrica_**, sostituisco $Var(X)$ con il suo corrispondente valore della **_varianza_**, ovvero $Var(X) = \\frac{1-h}{h^2}$.  \n",
    "\n",
    "$\\Rightarrow \\frac{1-h}{h^2} \\frac{1}{n} + (\\frac{1-h-h^2}{h})^2 = \\frac{1-h}{nh^2} + (\\frac{(1-h-h^2)^2}{h^2})$\n",
    "\n",
    "## Quesito 4:\n",
    "Devo dimostrare che lo stimatore $T$ per il parametro $h$ gode della proprietà di **_consistenza in media quadratica_**; per farlo, mi basta calcolare il **_limite_** per $n$ che tende a $+\\infty$ dello **_scarto quadratico medio_** ($MSE$) e vedere se equivale a $0$:  \n",
    "\n",
    "$\\lim_{n \\to \\infty} MSE \\Rightarrow$  \n",
    "$\\Rightarrow lim_{n \\to \\infty} \\frac{1-h}{nh^2} + (\\frac{(1-h-h^2)^2}{h^2}) = lim_{n \\to \\infty} \\frac{1-h}{nh^2} + lim_{n \\to \\infty} (\\frac{(1-h-h^2)^2}{h^2}) = \\frac{(1-h-h^2)^2}{\\infty} + \\frac{(1-h-h^2)^2}{h^2} = 0 + \\frac{(1-h-h^2)^2}{h^2} = \\frac{(1-h-h^2)^2}{h^2} \\neq 0$"
   ]
  },
  {
   "cell_type": "markdown",
   "metadata": {},
   "source": [
    "## Quesito 5:\n",
    "Fissato $\\varepsilon > 0$, bisogna esprimere, in funzione di $\\varepsilon$, $h$ e $n$, la **probabilità** dell'evento che si verifica quando l'**errore in valore assoluto** che si compie usando $T$ per stimare $\\mu \\leq \\varepsilon$.  \n",
    "\n",
    "Per capire la probabilità che è necessario calcolare, devo capire qual è l'**errore** di cui parla il testo dell'esercizio: l'*errore dello stimatore* $T$:  \n",
    "*Errore* $= T - E[T]$ con $E[T] = E[\\mu] = E[\\frac{1}{n}\\cdot \\sum_{i=1}^{n}x_i] = E[\\bar X] = \\mu$\n",
    "\n",
    "Ora devo calcolare la seguente probabilità: $P(\\left|T - E[T] \\right| \\leq \\varepsilon)$, ovvero:  \n",
    "$P(-\\varepsilon \\leq T - E[T] \\leq \\varepsilon)$"
   ]
  },
  {
   "cell_type": "markdown",
   "metadata": {},
   "source": [
    "## Quesito 6:  \n",
    "\n",
    "Proporre uno **stimatore** $S$ per $h$ giustificando la risposta.  \n",
    "\n",
    "Precedentemente ho calcolato uno **stimatore distorto** per $h$: $T = \\frac{1-h}{h}$  \n",
    "\n",
    "Per trovare uno **stimatore NON distorto**, invece, devo applicare il **metodo plug-in**:  \n",
    "$\\frac{h-1}{h} = T \\Rightarrow h = T \\cdot h + 1$  \n",
    "\n",
    "Ricordando che $T = \\bar X \\Rightarrow \\bar X \\cdot h + 1$"
   ]
  }
 ],
 "metadata": {
  "kernelspec": {
   "display_name": "Python 3",
   "language": "python",
   "name": "python3"
  },
  "language_info": {
   "codemirror_mode": {
    "name": "ipython",
    "version": 3
   },
   "file_extension": ".py",
   "mimetype": "text/x-python",
   "name": "python",
   "nbconvert_exporter": "python",
   "pygments_lexer": "ipython3",
   "version": "3.12.3"
  }
 },
 "nbformat": 4,
 "nbformat_minor": 2
}
