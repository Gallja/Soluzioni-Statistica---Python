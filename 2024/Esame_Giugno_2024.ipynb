{
 "cells": [
  {
   "cell_type": "markdown",
   "metadata": {},
   "source": [
    "# Esercizio 1:\n",
    "\n",
    "## Quesito 1:\n",
    "Per dimostrare che si tratti di una **_funzione di densità_**, dimostro che l'_integrale definito agli estremi della **funzione indicatrice**_ sia pari a **1**.  \n",
    "\n",
    "Ricordiamo che $f_X(x) = \\frac{6}{a^3} (ax - x^2) \\cdot I_{[0, a]}(x)$\n",
    "\n",
    "$\\int_{-\\infty}^{+\\infty} \\frac{6}{a^3} (ax - x^2) \\cdot I_{[0, a]}(x) dx = \\int_{0}^{a} \\frac{6}{a^3} (ax - x^2) dx = 1 \\Rightarrow $  \n",
    "$\\Rightarrow \\frac{6}{a^3}(\\int_{0}^{a}ax dx - \\int_{0}^{a} x^2 dx) = \\frac{6}{a^3} (a \\int_{0}^{a}x dx - \\int_{0}^{a}x^2 dx) = \\frac{6}{a^3} (a \\frac{a^2}{2}|_0^a - \\frac{x^3}{3}|_0^a) = \\frac{6}{a^3}(\\frac{a^3}{2} - \\frac{a^3}{3}) = \\frac{6}{a^3} (\\frac{3a^3 - 2a^3}{6}) = 1$  \n",
    "\n",
    "Dimostrare che l'integrale definito fra gli estremi della **_funzione indicatrice_** **NON** basta! Bisogna anche dimostrare che la funzione sia **sempre positiva**:  \n",
    "\n",
    "$f_X(x) >0 \\Rightarrow \\frac{6}{a^3} (ax - x^2) \\geq 0 \\Rightarrow$  \n",
    "$\\Rightarrow \\frac{6}{a^3} \\geq 0$ **SEMPRE VERO** poiché $a > 0$ e ci viene fornito dal testo della traccia  \n",
    "$\\Rightarrow -x^2 + ax \\geq 0 \\Rightarrow x(-x + a) \\Rightarrow$  \n",
    "$\\Rightarrow x \\geq 0$  \n",
    "$\\Rightarrow -x + a \\geq 0 \\Rightarrow -x \\geq -a \\Rightarrow x \\leq a$  \n",
    "\n",
    "Concludiamo quindi che il risultato della disequazione appena effettuata mostra che $x$ è **positiva** all'interno dell'intervallo $0 \\leq x \\leq a$  \n",
    "\n",
    "Con questo ultimo passaggio abbiamo definitivamente dimostrato che $f$ è una **_funzione di densità_**."
   ]
  },
  {
   "cell_type": "markdown",
   "metadata": {},
   "source": [
    "## Quesito 2:\n",
    "\n",
    "### Metodo 1\n",
    "Per calcolare il **_valore atteso_** di $X$ in funzione di $a$, _ragionando sulle proprietà geometriche della funzione_, ci si può immaginare come sia qualitativamente il suo grafico.  \n",
    "\n",
    "Sapendo che essa è una **parabola**, infatti, deduco che il \"vertice\", ovvero il punto di *massimo/minimo*, mi indica esattamente un **punto di centralità** (ecco la \"similitudine\" con il concetto di **_valore atteso_**). Va inoltre ricordato che il grafico di una parabola è **simmetrico**, di conseguenza il vertice di cui siamo interessati non crea alcun problema.  \n",
    "\n",
    "**CALCOLO DI** $E[X]$**:**  \n",
    "Dovendo calcolare il punto di *massimo/minimo* della *parabola*, non faccio altro che risolvere la **_derivata_** di $f_X(x)$, ovvero $f'_X(x)$.  \n",
    "\n",
    "$D[f_X(x)] = D[\\frac{6}{a^3} (ax - x^2)] = D[\\frac{6}{a^2} - \\frac{6x^2}{a^3}] = \\frac{6}{a^2} D[x] - \\frac{6}{a^3} D[x^2] = \\frac{6}{a^2} - \\frac{12x}{a^3}$  \n",
    "\n",
    "Adesso, il risultato del calcolo della **_derivata_** di $f_X(x)$, lo **uguaglio a 0**.  \n",
    "\n",
    "$\\frac{6}{a^2} - \\frac{12x}{a^3} = 0 \\Rightarrow$  \n",
    "$\\Rightarrow \\frac{6}{a^2} = \\frac{12x}{a^3} \\Rightarrow 6a = 12x \\Rightarrow \\frac{a}{2} = x $  \n",
    "\n",
    "**_Conclusione:_** $E[X] = \\frac{a}{2}$  \n",
    "\n",
    "### Metodo 2\n",
    "Si può calcolare $E[X]$ anche in maniera più \"tradizionale\", calcolando l'**_integrale definito agli estremi dell'intervallo della funzione indicatrice di_** $x$ **_moltiplicato per la funzione di densità_**.  \n",
    "\n",
    "$\\int_{0}^{1} x f_X(x) dx = \\int_{0}^{1} x \\frac{6}{a^3}(ax - x^2) dx = \\frac{a}{2}$  \n",
    "\n",
    "Uguale al **_valore atteso_** calcolato sfruttando le _proprietà geometriche_ della funzione."
   ]
  },
  {
   "cell_type": "markdown",
   "metadata": {},
   "source": [
    "## Quesito 3\n",
    "\n",
    "Indicando con $F$ la **_funzione di ripartizione_** di $X$, ricavare la *forma analatica* di $F_X(x)$.  \n",
    "\n",
    "Sfruttando la relazione che c'è fra la **_funzione di densità_** è la **_funzione di ripartizione_**, posso calcolare la *forma analitica* di quella di *ripartizione* risolvendo l'_integrale nell'intervallo compreso fra il minimo della **funzione indicatrice** ed un valore arbitrario che indico con_ $x$. Infatti, ciò che devo fare è calcolare l'_area sottesa al grafico di una parte dell'intervallo della **funzione indicatrice**, che va da 0 a_ $x$.  \n",
    "\n",
    "$\\int_{0}^{x} f_X(u) du = \\int_{0}^{x} \\frac{6}{a^3} (au- u^2) du = \\frac{6}{a^3} (a \\frac{u^2}{2}|_0^x - \\frac{u^3}{3}|_0^x) = \\frac{6}{a^3} (a \\frac{x^2}{2} - \\frac{x^3}{3}) = \\frac{3ax^2 - 2x^3}{a^3} $"
   ]
  },
  {
   "cell_type": "markdown",
   "metadata": {},
   "source": [
    "## Quesito 4:\n",
    "Scrivere il codice che generi il grafico della **_funzione di ripartizione_ F(x)** calcolata nel punto precedente, supponendo, **solo in questo punto**, di avere $a = \\frac{1}{2}$.  \n",
    "Il valore della funzione è il seguente:  \n",
    "$F(x) = \\frac{3x - 2x^2}{a^3}$"
   ]
  },
  {
   "cell_type": "code",
   "execution_count": 27,
   "metadata": {},
   "outputs": [
    {
     "data": {
      "image/png": "[encoded data removed]",
      "text/plain": [
       "<Figure size 640x480 with 1 Axes>"
      ]
     },
     "metadata": {},
     "output_type": "display_data"
    }
   ],
   "source": [
    "import numpy as np\n",
    "import matplotlib.pyplot as plt\n",
    "\n",
    "# Definire la funzione F(x)\n",
    "def F(x, a):\n",
    "  return (3*a*(x**2) - 2*(x**3)) / a**3\n",
    "\n",
    "# Definire il valore atteso (E[X] = a / 2)\n",
    "def E(a):\n",
    "  return a / 2\n",
    "\n",
    "# Definire il valore di a\n",
    "a = 1 / 2  # Valore dato dalla traccia\n",
    "\n",
    "# Generare i dati per il grafico\n",
    "x = np.arange(0, 2, 0.01)  # Intervallo di valori per x\n",
    "# oppure si può fare anche con x = np.linespace(0, 1)\n",
    "\n",
    "# prendo solamente le y positive (non esiste nessuna probabilità < 0, quindi quella parte di grafico posso ignorarla)\n",
    "y = F(x, a)\n",
    "\n",
    "# Creare il grafico\n",
    "plt.plot(x, y)\n",
    "\n",
    "# Impostare etichette e titolo del grafico\n",
    "plt.xlabel('X')\n",
    "plt.ylabel('F(x)')\n",
    "plt.title(f'Grafico di F(x) = (3x - 2x^2) / a^3')\n",
    "\n",
    "# Impostare il limite dell'asse y\n",
    "plt.ylim(0, 1.2)\n",
    "\n",
    "# Impostare il limite dell'asse x\n",
    "plt.xlim(0, a)\n",
    "\n",
    "# Impostare la linea per capire se si tratta di una distribuzione normale\n",
    "plt.axvline(E(a), color = 'red', linestyle = '--')\n",
    "\n",
    "# Mostrare il grafico della funzione di ripartizione\n",
    "plt.grid(True)  # Aggiungere griglia\n",
    "plt.show()"
   ]
  },
  {
   "cell_type": "markdown",
   "metadata": {},
   "source": [
    "## Quesito 5\n",
    "\n",
    "Per verificare se si tratta effettivamente di una **_distribuzione normale_** disegno anche il _grafico_ della **_funzione di densità_**."
   ]
  },
  {
   "cell_type": "code",
   "execution_count": 28,
   "metadata": {},
   "outputs": [
    {
     "data": {
      "image/png": "[encoded data removed]",
      "text/plain": [
       "<Figure size 640x480 with 1 Axes>"
      ]
     },
     "metadata": {},
     "output_type": "display_data"
    }
   ],
   "source": [
    "def f(x, a):\n",
    "  return 6 / a**3 * (a*x - x**2)\n",
    "\n",
    "x = np.arange(0, 1, 0.01)\n",
    "\n",
    "y = f(x, a)\n",
    "plt.plot(x, y)\n",
    "\n",
    "plt.xlabel('X')\n",
    "plt.ylabel('f(X)')\n",
    "plt.title(f'Grafico f(X) = 6 / a^3 * (ax - x^2)')\n",
    "\n",
    "plt.ylim(0, 3.5)\n",
    "plt.xlim(0.0, 0.5)\n",
    "\n",
    "plt.grid(True)\n",
    "plt.show()"
   ]
  },
  {
   "cell_type": "markdown",
   "metadata": {},
   "source": [
    "Da questo grafico è facile dedurre che **NON** si tratta di una **_distribuzione normale_**, poiché questo grafico non rispecchia quello ideale della **_funzione di densità_** per un tipo di **distribuzione normale**.  \n",
    "È stato necessario graficare anche la **_funzione di densità_** perché il grafico della **_funzione di riparizione_** di $X$ poteva ingannare facendoci concludere erroneamente che si trattasse di **distribuzione normale**."
   ]
  },
  {
   "cell_type": "markdown",
   "metadata": {},
   "source": [
    "Per capire la differenza fra le funzioni della libreria _numpy_ **_arange_** e **_linespace_**, bisogna porre l'attenzione sul parametro corrispondente allo *step*:"
   ]
  },
  {
   "cell_type": "code",
   "execution_count": 29,
   "metadata": {},
   "outputs": [
    {
     "data": {
      "text/plain": [
       "array([0.  , 0.01, 0.02, 0.03, 0.04, 0.05, 0.06, 0.07, 0.08, 0.09, 0.1 ,\n",
       "       0.11, 0.12, 0.13, 0.14, 0.15, 0.16, 0.17, 0.18, 0.19, 0.2 , 0.21,\n",
       "       0.22, 0.23, 0.24, 0.25, 0.26, 0.27, 0.28, 0.29, 0.3 , 0.31, 0.32,\n",
       "       0.33, 0.34, 0.35, 0.36, 0.37, 0.38, 0.39, 0.4 , 0.41, 0.42, 0.43,\n",
       "       0.44, 0.45, 0.46, 0.47, 0.48, 0.49, 0.5 , 0.51, 0.52, 0.53, 0.54,\n",
       "       0.55, 0.56, 0.57, 0.58, 0.59, 0.6 , 0.61, 0.62, 0.63, 0.64, 0.65,\n",
       "       0.66, 0.67, 0.68, 0.69, 0.7 , 0.71, 0.72, 0.73, 0.74, 0.75, 0.76,\n",
       "       0.77, 0.78, 0.79, 0.8 , 0.81, 0.82, 0.83, 0.84, 0.85, 0.86, 0.87,\n",
       "       0.88, 0.89, 0.9 , 0.91, 0.92, 0.93, 0.94, 0.95, 0.96, 0.97, 0.98,\n",
       "       0.99, 1.  , 1.01, 1.02, 1.03, 1.04, 1.05, 1.06, 1.07, 1.08, 1.09,\n",
       "       1.1 , 1.11, 1.12, 1.13, 1.14, 1.15, 1.16, 1.17, 1.18, 1.19, 1.2 ,\n",
       "       1.21, 1.22, 1.23, 1.24, 1.25, 1.26, 1.27, 1.28, 1.29, 1.3 , 1.31,\n",
       "       1.32, 1.33, 1.34, 1.35, 1.36, 1.37, 1.38, 1.39, 1.4 , 1.41, 1.42,\n",
       "       1.43, 1.44, 1.45, 1.46, 1.47, 1.48, 1.49, 1.5 , 1.51, 1.52, 1.53,\n",
       "       1.54, 1.55, 1.56, 1.57, 1.58, 1.59, 1.6 , 1.61, 1.62, 1.63, 1.64,\n",
       "       1.65, 1.66, 1.67, 1.68, 1.69, 1.7 , 1.71, 1.72, 1.73, 1.74, 1.75,\n",
       "       1.76, 1.77, 1.78, 1.79, 1.8 , 1.81, 1.82, 1.83, 1.84, 1.85, 1.86,\n",
       "       1.87, 1.88, 1.89, 1.9 , 1.91, 1.92, 1.93, 1.94, 1.95, 1.96, 1.97,\n",
       "       1.98, 1.99, 2.  , 2.01, 2.02, 2.03, 2.04, 2.05, 2.06, 2.07, 2.08,\n",
       "       2.09, 2.1 , 2.11, 2.12, 2.13, 2.14, 2.15, 2.16, 2.17, 2.18, 2.19,\n",
       "       2.2 , 2.21, 2.22, 2.23, 2.24, 2.25, 2.26, 2.27, 2.28, 2.29, 2.3 ,\n",
       "       2.31, 2.32, 2.33, 2.34, 2.35, 2.36, 2.37, 2.38, 2.39, 2.4 , 2.41,\n",
       "       2.42, 2.43, 2.44, 2.45, 2.46, 2.47, 2.48, 2.49, 2.5 , 2.51, 2.52,\n",
       "       2.53, 2.54, 2.55, 2.56, 2.57, 2.58, 2.59, 2.6 , 2.61, 2.62, 2.63,\n",
       "       2.64, 2.65, 2.66, 2.67, 2.68, 2.69, 2.7 , 2.71, 2.72, 2.73, 2.74,\n",
       "       2.75, 2.76, 2.77, 2.78, 2.79, 2.8 , 2.81, 2.82, 2.83, 2.84, 2.85,\n",
       "       2.86, 2.87, 2.88, 2.89, 2.9 , 2.91, 2.92, 2.93, 2.94, 2.95, 2.96,\n",
       "       2.97, 2.98, 2.99, 3.  , 3.01, 3.02, 3.03, 3.04, 3.05, 3.06, 3.07,\n",
       "       3.08, 3.09, 3.1 , 3.11, 3.12, 3.13, 3.14, 3.15, 3.16, 3.17, 3.18,\n",
       "       3.19, 3.2 , 3.21, 3.22, 3.23, 3.24, 3.25, 3.26, 3.27, 3.28, 3.29,\n",
       "       3.3 , 3.31, 3.32, 3.33, 3.34, 3.35, 3.36, 3.37, 3.38, 3.39, 3.4 ,\n",
       "       3.41, 3.42, 3.43, 3.44, 3.45, 3.46, 3.47, 3.48, 3.49, 3.5 , 3.51,\n",
       "       3.52, 3.53, 3.54, 3.55, 3.56, 3.57, 3.58, 3.59, 3.6 , 3.61, 3.62,\n",
       "       3.63, 3.64, 3.65, 3.66, 3.67, 3.68, 3.69, 3.7 , 3.71, 3.72, 3.73,\n",
       "       3.74, 3.75, 3.76, 3.77, 3.78, 3.79, 3.8 , 3.81, 3.82, 3.83, 3.84,\n",
       "       3.85, 3.86, 3.87, 3.88, 3.89, 3.9 , 3.91, 3.92, 3.93, 3.94, 3.95,\n",
       "       3.96, 3.97, 3.98, 3.99, 4.  , 4.01, 4.02, 4.03, 4.04, 4.05, 4.06,\n",
       "       4.07, 4.08, 4.09, 4.1 , 4.11, 4.12, 4.13, 4.14, 4.15, 4.16, 4.17,\n",
       "       4.18, 4.19, 4.2 , 4.21, 4.22, 4.23, 4.24, 4.25, 4.26, 4.27, 4.28,\n",
       "       4.29, 4.3 , 4.31, 4.32, 4.33, 4.34, 4.35, 4.36, 4.37, 4.38, 4.39,\n",
       "       4.4 , 4.41, 4.42, 4.43, 4.44, 4.45, 4.46, 4.47, 4.48, 4.49, 4.5 ,\n",
       "       4.51, 4.52, 4.53, 4.54, 4.55, 4.56, 4.57, 4.58, 4.59, 4.6 , 4.61,\n",
       "       4.62, 4.63, 4.64, 4.65, 4.66, 4.67, 4.68, 4.69, 4.7 , 4.71, 4.72,\n",
       "       4.73, 4.74, 4.75, 4.76, 4.77, 4.78, 4.79, 4.8 , 4.81, 4.82, 4.83,\n",
       "       4.84, 4.85, 4.86, 4.87, 4.88, 4.89, 4.9 , 4.91, 4.92, 4.93, 4.94,\n",
       "       4.95, 4.96, 4.97, 4.98, 4.99, 5.  , 5.01, 5.02, 5.03, 5.04, 5.05,\n",
       "       5.06, 5.07, 5.08, 5.09, 5.1 , 5.11, 5.12, 5.13, 5.14, 5.15, 5.16,\n",
       "       5.17, 5.18, 5.19, 5.2 , 5.21, 5.22, 5.23, 5.24, 5.25, 5.26, 5.27,\n",
       "       5.28, 5.29, 5.3 , 5.31, 5.32, 5.33, 5.34, 5.35, 5.36, 5.37, 5.38,\n",
       "       5.39, 5.4 , 5.41, 5.42, 5.43, 5.44, 5.45, 5.46, 5.47, 5.48, 5.49,\n",
       "       5.5 , 5.51, 5.52, 5.53, 5.54, 5.55, 5.56, 5.57, 5.58, 5.59, 5.6 ,\n",
       "       5.61, 5.62, 5.63, 5.64, 5.65, 5.66, 5.67, 5.68, 5.69, 5.7 , 5.71,\n",
       "       5.72, 5.73, 5.74, 5.75, 5.76, 5.77, 5.78, 5.79, 5.8 , 5.81, 5.82,\n",
       "       5.83, 5.84, 5.85, 5.86, 5.87, 5.88, 5.89, 5.9 , 5.91, 5.92, 5.93,\n",
       "       5.94, 5.95, 5.96, 5.97, 5.98, 5.99, 6.  , 6.01, 6.02, 6.03, 6.04,\n",
       "       6.05, 6.06, 6.07, 6.08, 6.09, 6.1 , 6.11, 6.12, 6.13, 6.14, 6.15,\n",
       "       6.16, 6.17, 6.18, 6.19, 6.2 , 6.21, 6.22, 6.23, 6.24, 6.25, 6.26,\n",
       "       6.27, 6.28, 6.29, 6.3 , 6.31, 6.32, 6.33, 6.34, 6.35, 6.36, 6.37,\n",
       "       6.38, 6.39, 6.4 , 6.41, 6.42, 6.43, 6.44, 6.45, 6.46, 6.47, 6.48,\n",
       "       6.49, 6.5 , 6.51, 6.52, 6.53, 6.54, 6.55, 6.56, 6.57, 6.58, 6.59,\n",
       "       6.6 , 6.61, 6.62, 6.63, 6.64, 6.65, 6.66, 6.67, 6.68, 6.69, 6.7 ,\n",
       "       6.71, 6.72, 6.73, 6.74, 6.75, 6.76, 6.77, 6.78, 6.79, 6.8 , 6.81,\n",
       "       6.82, 6.83, 6.84, 6.85, 6.86, 6.87, 6.88, 6.89, 6.9 , 6.91, 6.92,\n",
       "       6.93, 6.94, 6.95, 6.96, 6.97, 6.98, 6.99, 7.  , 7.01, 7.02, 7.03,\n",
       "       7.04, 7.05, 7.06, 7.07, 7.08, 7.09, 7.1 , 7.11, 7.12, 7.13, 7.14,\n",
       "       7.15, 7.16, 7.17, 7.18, 7.19, 7.2 , 7.21, 7.22, 7.23, 7.24, 7.25,\n",
       "       7.26, 7.27, 7.28, 7.29, 7.3 , 7.31, 7.32, 7.33, 7.34, 7.35, 7.36,\n",
       "       7.37, 7.38, 7.39, 7.4 , 7.41, 7.42, 7.43, 7.44, 7.45, 7.46, 7.47,\n",
       "       7.48, 7.49, 7.5 , 7.51, 7.52, 7.53, 7.54, 7.55, 7.56, 7.57, 7.58,\n",
       "       7.59, 7.6 , 7.61, 7.62, 7.63, 7.64, 7.65, 7.66, 7.67, 7.68, 7.69,\n",
       "       7.7 , 7.71, 7.72, 7.73, 7.74, 7.75, 7.76, 7.77, 7.78, 7.79, 7.8 ,\n",
       "       7.81, 7.82, 7.83, 7.84, 7.85, 7.86, 7.87, 7.88, 7.89, 7.9 , 7.91,\n",
       "       7.92, 7.93, 7.94, 7.95, 7.96, 7.97, 7.98, 7.99, 8.  , 8.01, 8.02,\n",
       "       8.03, 8.04, 8.05, 8.06, 8.07, 8.08, 8.09, 8.1 , 8.11, 8.12, 8.13,\n",
       "       8.14, 8.15, 8.16, 8.17, 8.18, 8.19, 8.2 , 8.21, 8.22, 8.23, 8.24,\n",
       "       8.25, 8.26, 8.27, 8.28, 8.29, 8.3 , 8.31, 8.32, 8.33, 8.34, 8.35,\n",
       "       8.36, 8.37, 8.38, 8.39, 8.4 , 8.41, 8.42, 8.43, 8.44, 8.45, 8.46,\n",
       "       8.47, 8.48, 8.49, 8.5 , 8.51, 8.52, 8.53, 8.54, 8.55, 8.56, 8.57,\n",
       "       8.58, 8.59, 8.6 , 8.61, 8.62, 8.63, 8.64, 8.65, 8.66, 8.67, 8.68,\n",
       "       8.69, 8.7 , 8.71, 8.72, 8.73, 8.74, 8.75, 8.76, 8.77, 8.78, 8.79,\n",
       "       8.8 , 8.81, 8.82, 8.83, 8.84, 8.85, 8.86, 8.87, 8.88, 8.89, 8.9 ,\n",
       "       8.91, 8.92, 8.93, 8.94, 8.95, 8.96, 8.97, 8.98, 8.99, 9.  , 9.01,\n",
       "       9.02, 9.03, 9.04, 9.05, 9.06, 9.07, 9.08, 9.09, 9.1 , 9.11, 9.12,\n",
       "       9.13, 9.14, 9.15, 9.16, 9.17, 9.18, 9.19, 9.2 , 9.21, 9.22, 9.23,\n",
       "       9.24, 9.25, 9.26, 9.27, 9.28, 9.29, 9.3 , 9.31, 9.32, 9.33, 9.34,\n",
       "       9.35, 9.36, 9.37, 9.38, 9.39, 9.4 , 9.41, 9.42, 9.43, 9.44, 9.45,\n",
       "       9.46, 9.47, 9.48, 9.49, 9.5 , 9.51, 9.52, 9.53, 9.54, 9.55, 9.56,\n",
       "       9.57, 9.58, 9.59, 9.6 , 9.61, 9.62, 9.63, 9.64, 9.65, 9.66, 9.67,\n",
       "       9.68, 9.69, 9.7 , 9.71, 9.72, 9.73, 9.74, 9.75, 9.76, 9.77, 9.78,\n",
       "       9.79, 9.8 , 9.81, 9.82, 9.83, 9.84, 9.85, 9.86, 9.87, 9.88, 9.89,\n",
       "       9.9 , 9.91, 9.92, 9.93, 9.94, 9.95, 9.96, 9.97, 9.98, 9.99])"
      ]
     },
     "execution_count": 29,
     "metadata": {},
     "output_type": "execute_result"
    }
   ],
   "source": [
    "np.arange(0, 10, 0.01)"
   ]
  },
  {
   "cell_type": "code",
   "execution_count": 30,
   "metadata": {},
   "outputs": [
    {
     "data": {
      "text/plain": [
       "array([ 0.        ,  0.20408163,  0.40816327,  0.6122449 ,  0.81632653,\n",
       "        1.02040816,  1.2244898 ,  1.42857143,  1.63265306,  1.83673469,\n",
       "        2.04081633,  2.24489796,  2.44897959,  2.65306122,  2.85714286,\n",
       "        3.06122449,  3.26530612,  3.46938776,  3.67346939,  3.87755102,\n",
       "        4.08163265,  4.28571429,  4.48979592,  4.69387755,  4.89795918,\n",
       "        5.10204082,  5.30612245,  5.51020408,  5.71428571,  5.91836735,\n",
       "        6.12244898,  6.32653061,  6.53061224,  6.73469388,  6.93877551,\n",
       "        7.14285714,  7.34693878,  7.55102041,  7.75510204,  7.95918367,\n",
       "        8.16326531,  8.36734694,  8.57142857,  8.7755102 ,  8.97959184,\n",
       "        9.18367347,  9.3877551 ,  9.59183673,  9.79591837, 10.        ])"
      ]
     },
     "execution_count": 30,
     "metadata": {},
     "output_type": "execute_result"
    }
   ],
   "source": [
    "np.linspace(0, 10)"
   ]
  },
  {
   "cell_type": "markdown",
   "metadata": {},
   "source": [
    "## Quesito 6\n",
    "\n",
    "Per il calcolo della **_varianza_**, mi avvalgo della formula che sfrutta il **_valore atteso_**.  \n",
    "**NB**: $Var(X)$ va calcolata in funzione di $a$.  \n",
    "\n",
    "$Var(X) = E[X^2] - E[X]^2 \\Rightarrow$  \n",
    "$\\Rightarrow E[X] = \\frac{a}{2} $  \n",
    "$\\Rightarrow E[X]^2 = \\frac{a^2}{4}$  \n",
    "\n",
    "Non abbiamo a disposizione il valore di $E[X^2]$ e va calcolato sfruttando la **_proprietà di linearità del valore atteso_**:  \n",
    "$E[g(x)] = \\int_{0}^{a} g(x) f_X(x) dx$ con $g(x)$ che nel nostro caso è $X^2$.  \n",
    "\n",
    "$E[X^2] = \\int_{0}^{a} x^2 (\\frac{6}{a^3} (ax - x^2)) dx = \\frac{6}{a^3} \\int_{0}^{a} ax^3 - x^4 dx = \\frac{6}{a^3} (a \\int_{0}^{a} x^3 dx - \\int_{0}^{a} x^4 dx) = \\frac{6}{a^3}(a \\frac{x^4}{3}|_0^a - \\frac{x^5}{5}|_0^a) = $  \n",
    "$= \\frac{6}{a^3}(\\frac{a^5}{4} - \\frac{a^5}{5}) = \\frac{6}{a^3} (\\frac{a^5}{20}) = \\frac{6a^5}{20a^3} = \\frac{3a^5}{10a^3} = \\frac{3a^2}{10}$  \n",
    "\n",
    "A questo punto posso calcolare la **_varianza di_** $X$, sfruttando la formula scritta inizialmente.  \n",
    "\n",
    "$Var(X) = E[X^2] - E[X]^2 \\Rightarrow$  \n",
    "$\\Rightarrow Var(X) = \\frac{3a^2}{10} - (\\frac{a}{2})^2 = \\frac{3a^2}{10} - \\frac{a^2}{4} = \\frac{6a^2 - 5a^2}{20} = \\frac{a^2}{20}$"
   ]
  },
  {
   "cell_type": "markdown",
   "metadata": {},
   "source": [
    "# Esercizio 2:\n",
    "\n",
    "Esercizio incentrato principalmente sugli **_stimatori_**.  \n",
    "\n",
    "## Quesito 1:\n",
    "Per dimostrare che la **media campionaria** è uno **_stimatore distorto_** per $a$, parto dal seguente presupposto:  \n",
    "\n",
    "$E[S] = T(\\Theta)$, dove $S$ è lo *stimatore* e $T(\\Theta)$ è il *valore da stimare*.  \n",
    "\n",
    "Alla luce di ciò, posso dire che $E[T] = a$, ricordando che $T$ è la **_media campionaria_** $\\overline X$ $\\Rightarrow E[\\overline X] = a \\Rightarrow$  \n",
    "$\\Rightarrow \\int_{0}^{a} x f_X(x) dx = \\frac{a}{2} \\neq a$  \n",
    "\n",
    "Essendo $\\frac{a}{2} \\neq a$, ho dimostrato che la **media campionaria è uno _stimatore distorto_ per** $a$."
   ]
  },
  {
   "cell_type": "markdown",
   "metadata": {},
   "source": [
    "## Quesito 2:\n",
    "\n",
    "1. **Calcolo del _bias_**: Per calcolare il **_bias_** di $\\overline X$, devo partire da cos'è: si tratta del **_valore atteso dell'errore_** (indica dunque la **distorsione**).  \n",
    "Ricordiamo inoltre che l'**errore è la differenza tra lo stimatore e il parametro**: $W - a$.  \n",
    "$bias(W) = E[W - a]$ e, grazie alla proprietà di *linearità* del **_valore atteso_**, sappiamo che $bias(W) = E[W] - a$.  \n",
    "In altre parole, devo sottrarre al valore atteso dello stimatore ottenuto, ovvero $\\frac{a}{2}$, la quantità che bisogna stimare, ovvero $a$.  \n",
    "\n",
    "Quindi posso affermare che:  \n",
    "\n",
    "$bias(T) = E[T] - a = \\frac{a}{2} - a = -\\frac{a}{2}$\n",
    "\n",
    "2. **Calcolo dello _scarto quadratico medio_**: Per il calcolo dello **_scarto quadratico medio_** (che serve a misurare la bontà dello stimatore appena calcolato), sfrutto il valore della **_varianza_** e quello del **_bias_** (trovato nel punto precedente). Ricordando che devo calcolarlo rispetto ad $a$:  \n",
    "$MSE_T = Var(T) + b_a^2 \\Rightarrow$  \n",
    "$\\Rightarrow MSE_T = E[T^2] - E[T]^2 + b^2$  \n",
    "\n",
    "Sapendo che $T = \\overline X$ e che posso scrivere la **_varianza della media campionaria_** ($Var(\\overline X)$) come $\\frac{Var(X)}{n}$, evito di sviluppare $E[T^2] - E[T]^2$, ma scrivo direttamente:  \n",
    "\n",
    "$MSE_T = \\frac{Var(X)}{n} + b^2 \\Rightarrow$  \n",
    "$\\Rightarrow \\frac{a^2}{20} \\frac{1}{n} + (-\\frac{a}{2})^2 = \\frac{a^2}{20} \\frac{1}{n} + \\frac{a^2}{4} = \\frac{a^2}{20n} + \\frac{a^2}{4}$"
   ]
  },
  {
   "cell_type": "markdown",
   "metadata": {},
   "source": [
    "## Quesito 3:\n",
    "\n",
    "Per stabilire se la **_media campionaria_** gode della **_propritetà di consistenza in media quadratica_**, bisogna prima di tutto ricordare la definizione di **_consistenza in media quadratica_**: uno stimatore $T$ di un parametro $\\Theta$, infatti, si dice _consistente in media quadratica_ se, al **_crescere della dimensione del campione_** $n$, l'**_errore quadratico medio_** ($MSE$) di $T$ **tende a 0**. In altre parole se:  \n",
    "\n",
    "$\\lim _{n \\to \\infty} MSE = 0$  \n",
    "\n",
    "Abbiamo calcolato, nel punto precedente, il valore di $MSE$ e possiamo dunque *risolvere il limite*:  \n",
    "\n",
    "$\\lim _{n \\to \\infty} \\frac{a^2}{20n} + \\frac{a^2}{4} = \\lim _{n \\to \\infty} \\frac{a^2}{20n} + \\lim _{n \\to \\infty} \\frac{a^2}{4} = 0 + \\frac{a^2}{4} = \\frac{a^2}{4} \\neq 0$  \n",
    "\n",
    "Posso dunque concludere che la **_media campionaria_ NON gode della _propritetà di consistenza in media quadratica_**."
   ]
  },
  {
   "cell_type": "markdown",
   "metadata": {},
   "source": [
    "## Quesito 4:\n",
    "Come scegliere fra il **_metodo plug-in_** e il metodo della **_massima verosimiglianza_** per stimare $a$:  \n",
    "\n",
    "1. **Plug-In**:  \n",
    "Lo stimatore **distorto** che ho trovato (che è $\\frac{a}{2}$ nel nostro caso), va uguagliato a $T$:  \n",
    "$E[T] = T$  \n",
    "\n",
    "2. **Massima Verosimiglianza**:  \n",
    "Il metodo di **_massima verosimiglianza_** è una tecnica usata per stimare i parametri di un modello statistico, basandosi su dati osservati (a patto di conoscere la **_funzione di massa o di densità_**).  \n",
    "Formula generale:  \n",
    "$l(x, \\theta) = ln [\\prod_{i = 1}^{n} f_X(x_i, \\theta)]$\n",
    "\n",
    "A primo impatto, è facile dedurre che è molto più conveniente scegliere il **metodo plug-in**."
   ]
  },
  {
   "cell_type": "markdown",
   "metadata": {},
   "source": [
    "## Quesito 5:\n",
    "Avendo scelto il **_metodo plug-in_**, questo è lo stimatore $T$ **NON distorto** per $a$:  \n",
    "$\\frac{a}{2} = T \\Rightarrow a = 2T$.  \n",
    "\n",
    "**Conclusione**: lo stimatore $T$ da proporre è pari $2\\overline X$."
   ]
  },
  {
   "cell_type": "markdown",
   "metadata": {},
   "source": [
    "## Quesito 6:\n",
    "\n",
    "Per ottenere la **_distribuzione_** approssimata dello stimatore $T$, calcolato al punto precedente, utilizzando il **_teorema centrale del limite_**, mi basta applicare \"_alla lettera_\" la definizione del **_TLC_**, ricordando 3 **premesse fondamentali**:  \n",
    "1. **INDIPENDENZA**: Le osservazioni del campione devono essere estratte **in modo indipendente l'una dall'altra**.  \n",
    "2. **DIMENSIONE DEL CAMPIONE**: Il **_TLC_** trova senso nella propria applicazione nel momento in cui la dimensione del campione $n$ diventa **sufficientemente grande**.  \n",
    "3. **VARIANZA FINITA**: Il valore relativo alla **_varianza_** della popolazione dalla quale viene estratto il campione **deve essere finito**.   \n",
    "\n",
    "Ora devo effettuare i calcoli trovando il valore della **_media_** e della **_varianza_** di $T$:  \n",
    "\n",
    "- **Valore atteso**: il **V. A.** di $T$ è pari alla **_media campionaria_** $\\overline X$ per $2$, quindi dico che $E[T] = 2E[\\overline X] = 2E[X]$ (sfruttando la linearità di $E[X]$ e sapendo che $E[\\overline X] = E[X]$);  \n",
    "- **Varianza**: la varianza di $T$ è possibile calcolarla tramite $Var(T) = Var(2\\overline X) = (2)^2 Var(\\overline X) = 4 Var(\\overline X)$, ricordando sempre che $Var(\\overline X) = \\frac{Var(X)}{n}$  \n",
    "\n",
    "Adesso, come ultimo passaggio, posso **approssimare la distribuzione con una normale**, sostituendo con i valori relativi al **_valore atteso_** di $X$ e alla **_varianza_** di $X$:  \n",
    "- **V.A.**: $E[X] = \\mu$, avendo $2E[\\overline X] \\Rightarrow$ la **_media/valore atteso_** approssimato/a con **_distribuzione normale_** è $\\mu_t = 2\\mu$, avendo calcolato precedentemente $\\mu$ e avendo appurato che è $\\frac{a}{2}$, posso direttamente calcolare il **V.A.**: $2 \\mu = 2 \\cdot \\frac{a}{2} = a$.  \n",
    "- **Varianza**: $Var(X) = \\sigma ^2 \\Rightarrow$ la **_varianza_** approssimata con **_distribuzione normale_** è $\\sigma_t^2 = 4 \\frac{\\sigma^2}{n}$  \n",
    "Anche in questo caso, avendo già a disposizione il valore dell **_varianza_**, posso effettuare il calcolo: $\\sigma_t^2 = 4 \\frac{\\sigma^2}{n} = 4 \\cdot \\frac{a^2}{20} \\cdot \\frac{1}{n} = 4 \\cdot \\frac{a^2}{20} \\cdot \\frac{1}{n} = \\frac{a^2}{5n}$  \n",
    "\n",
    "**Conclusione**: la distribuzione approssimata dello stimatore $T$ è: $X \\sim N(\\mu, \\sigma ^2)$"
   ]
  },
  {
   "cell_type": "markdown",
   "metadata": {},
   "source": [
    "## Quesito 7\n",
    "\n",
    "Calcolare la probabilità dell'evento che si verifica quando l'errore (in valore assoluto) che si compie usando $T$ per stimare $a \\leq 1$, esprimendola in funzione di $a$, $n$ e della **funzione di ripartizione** della **_distribuzione normale standard_**.  \n",
    "\n",
    "Devo calcolare la seguente probabilità: $P(\\left| T-\\mu \\right| \\leq 1) \\Rightarrow$  \n",
    "$\\Rightarrow P(-1 \\leq 2\\overline X_n \\leq 1) = P(-\\frac{1}{2} \\leq \\overline X_n - \\mu \\leq \\frac{1}{2}) \\Rightarrow P(\\frac{-\\frac{1}{2}}{\\sqrt{\\frac{\\sigma^2}{n}}} \\leq \\frac{\\overline X_n - \\mu}{\\sqrt{\\frac{\\sigma^2}{n}}} \\leq \\frac{\\frac{1}{2}}{\\sqrt{\\frac{\\sigma^2}{n}}}) = P(-\\frac{1}{2} \\frac{\\sqrt{n}}{\\sigma} \\leq Z \\leq \\frac{1}{2} \\frac{\\sqrt{n}}{\\sigma}) =$  \n",
    "$P(Z \\leq \\frac{1}{2} \\frac{\\sqrt{n}}{\\sigma}) - P(Z \\leq -\\frac{1}{2} \\frac{\\sqrt{n}}{\\sigma}) = \\Phi(\\frac{\\sqrt{n}}{2 \\sigma}) - \\Phi(-\\frac{\\sqrt{n}}{2 \\sigma}) \\Rightarrow$  \n",
    "$\\Rightarrow P = 1 - 2 \\cdot \\Phi(-\\frac{\\sqrt{n}}{2 \\sigma})$"
   ]
  },
  {
   "cell_type": "markdown",
   "metadata": {},
   "source": [
    "# Esercizio 3:\n",
    "Questo esercizio è da svolgere interamente in **_Python_**.  \n",
    "\n",
    "## Punto 1:\n",
    "Scrivere il codice che visualizzi su righe differenti il nome di ogni **attributo** unitamente al corrispondente numero di **valori mancanti**."
   ]
  },
  {
   "cell_type": "code",
   "execution_count": 31,
   "metadata": {},
   "outputs": [
    {
     "data": {
      "text/html": [
       "<div>\n",
       "<style scoped>\n",
       "    .dataframe tbody tr th:only-of-type {\n",
       "        vertical-align: middle;\n",
       "    }\n",
       "\n",
       "    .dataframe tbody tr th {\n",
       "        vertical-align: top;\n",
       "    }\n",
       "\n",
       "    .dataframe thead th {\n",
       "        text-align: right;\n",
       "    }\n",
       "</style>\n",
       "<table border=\"1\" class=\"dataframe\">\n",
       "  <thead>\n",
       "    <tr style=\"text-align: right;\">\n",
       "      <th></th>\n",
       "      <th>matricola</th>\n",
       "      <th>genere</th>\n",
       "      <th>eta</th>\n",
       "      <th>punteggio</th>\n",
       "      <th>tempo</th>\n",
       "    </tr>\n",
       "  </thead>\n",
       "  <tbody>\n",
       "    <tr>\n",
       "      <th>0</th>\n",
       "      <td>4302229</td>\n",
       "      <td>F</td>\n",
       "      <td>20</td>\n",
       "      <td>20.49</td>\n",
       "      <td>24.0</td>\n",
       "    </tr>\n",
       "    <tr>\n",
       "      <th>1</th>\n",
       "      <td>3199114</td>\n",
       "      <td>F</td>\n",
       "      <td>21</td>\n",
       "      <td>8.53</td>\n",
       "      <td>9.0</td>\n",
       "    </tr>\n",
       "    <tr>\n",
       "      <th>2</th>\n",
       "      <td>8399478</td>\n",
       "      <td>F</td>\n",
       "      <td>31</td>\n",
       "      <td>5.28</td>\n",
       "      <td>9.0</td>\n",
       "    </tr>\n",
       "    <tr>\n",
       "      <th>3</th>\n",
       "      <td>2658176</td>\n",
       "      <td>F</td>\n",
       "      <td>35</td>\n",
       "      <td>17.37</td>\n",
       "      <td>21.0</td>\n",
       "    </tr>\n",
       "    <tr>\n",
       "      <th>4</th>\n",
       "      <td>1492818</td>\n",
       "      <td>M</td>\n",
       "      <td>35</td>\n",
       "      <td>23.34</td>\n",
       "      <td>22.0</td>\n",
       "    </tr>\n",
       "    <tr>\n",
       "      <th>...</th>\n",
       "      <td>...</td>\n",
       "      <td>...</td>\n",
       "      <td>...</td>\n",
       "      <td>...</td>\n",
       "      <td>...</td>\n",
       "    </tr>\n",
       "    <tr>\n",
       "      <th>663</th>\n",
       "      <td>4290912</td>\n",
       "      <td>M</td>\n",
       "      <td>33</td>\n",
       "      <td>18.99</td>\n",
       "      <td>22.0</td>\n",
       "    </tr>\n",
       "    <tr>\n",
       "      <th>664</th>\n",
       "      <td>3153118</td>\n",
       "      <td>F</td>\n",
       "      <td>18</td>\n",
       "      <td>16.83</td>\n",
       "      <td>17.0</td>\n",
       "    </tr>\n",
       "    <tr>\n",
       "      <th>665</th>\n",
       "      <td>2522926</td>\n",
       "      <td>M</td>\n",
       "      <td>35</td>\n",
       "      <td>13.62</td>\n",
       "      <td>17.0</td>\n",
       "    </tr>\n",
       "    <tr>\n",
       "      <th>666</th>\n",
       "      <td>0839910</td>\n",
       "      <td>M</td>\n",
       "      <td>30</td>\n",
       "      <td>10.88</td>\n",
       "      <td>24.0</td>\n",
       "    </tr>\n",
       "    <tr>\n",
       "      <th>667</th>\n",
       "      <td>0374104</td>\n",
       "      <td>M</td>\n",
       "      <td>33</td>\n",
       "      <td>21.47</td>\n",
       "      <td>32.0</td>\n",
       "    </tr>\n",
       "  </tbody>\n",
       "</table>\n",
       "<p>668 rows × 5 columns</p>\n",
       "</div>"
      ],
      "text/plain": [
       "    matricola genere  eta  punteggio  tempo\n",
       "0     4302229      F   20      20.49   24.0\n",
       "1     3199114      F   21       8.53    9.0\n",
       "2     8399478      F   31       5.28    9.0\n",
       "3     2658176      F   35      17.37   21.0\n",
       "4     1492818      M   35      23.34   22.0\n",
       "..        ...    ...  ...        ...    ...\n",
       "663   4290912      M   33      18.99   22.0\n",
       "664   3153118      F   18      16.83   17.0\n",
       "665   2522926      M   35      13.62   17.0\n",
       "666   0839910      M   30      10.88   24.0\n",
       "667   0374104      M   33      21.47   32.0\n",
       "\n",
       "[668 rows x 5 columns]"
      ]
     },
     "execution_count": 31,
     "metadata": {},
     "output_type": "execute_result"
    }
   ],
   "source": [
    "import csv\n",
    "import pandas as pd\n",
    "import matplotlib.pyplot as plt\n",
    "import numpy as np\n",
    "\n",
    "data = pd.read_csv('../dataset/risultati.csv', delimiter = ',')\n",
    "data"
   ]
  },
  {
   "cell_type": "markdown",
   "metadata": {},
   "source": [
    "Dopo aver aperto correttamente il file contenente i dati, posso soddisfare la prima richiesta dell'esercizio:"
   ]
  },
  {
   "cell_type": "code",
   "execution_count": 32,
   "metadata": {},
   "outputs": [
    {
     "data": {
      "text/html": [
       "<div>\n",
       "<style scoped>\n",
       "    .dataframe tbody tr th:only-of-type {\n",
       "        vertical-align: middle;\n",
       "    }\n",
       "\n",
       "    .dataframe tbody tr th {\n",
       "        vertical-align: top;\n",
       "    }\n",
       "\n",
       "    .dataframe thead th {\n",
       "        text-align: right;\n",
       "    }\n",
       "</style>\n",
       "<table border=\"1\" class=\"dataframe\">\n",
       "  <thead>\n",
       "    <tr style=\"text-align: right;\">\n",
       "      <th></th>\n",
       "      <th>mancanti</th>\n",
       "    </tr>\n",
       "  </thead>\n",
       "  <tbody>\n",
       "    <tr>\n",
       "      <th>matricola</th>\n",
       "      <td>0</td>\n",
       "    </tr>\n",
       "    <tr>\n",
       "      <th>genere</th>\n",
       "      <td>0</td>\n",
       "    </tr>\n",
       "    <tr>\n",
       "      <th>eta</th>\n",
       "      <td>0</td>\n",
       "    </tr>\n",
       "    <tr>\n",
       "      <th>punteggio</th>\n",
       "      <td>0</td>\n",
       "    </tr>\n",
       "    <tr>\n",
       "      <th>tempo</th>\n",
       "      <td>0</td>\n",
       "    </tr>\n",
       "  </tbody>\n",
       "</table>\n",
       "</div>"
      ],
      "text/plain": [
       "           mancanti\n",
       "matricola         0\n",
       "genere            0\n",
       "eta               0\n",
       "punteggio         0\n",
       "tempo             0"
      ]
     },
     "execution_count": 32,
     "metadata": {},
     "output_type": "execute_result"
    }
   ],
   "source": [
    "valMancanti = {col : len(data[col]) - len(data[col].dropna()) for col in data.columns}\n",
    "\n",
    "dataF = pd.DataFrame(index = valMancanti.keys(), data = valMancanti.values(), columns = ['mancanti'])\n",
    "dataF"
   ]
  },
  {
   "cell_type": "markdown",
   "metadata": {},
   "source": [
    "Si può fare la stessa cosa con un codice più breve e pulito:"
   ]
  },
  {
   "cell_type": "code",
   "execution_count": 33,
   "metadata": {},
   "outputs": [
    {
     "data": {
      "text/html": [
       "<div>\n",
       "<style scoped>\n",
       "    .dataframe tbody tr th:only-of-type {\n",
       "        vertical-align: middle;\n",
       "    }\n",
       "\n",
       "    .dataframe tbody tr th {\n",
       "        vertical-align: top;\n",
       "    }\n",
       "\n",
       "    .dataframe thead th {\n",
       "        text-align: right;\n",
       "    }\n",
       "</style>\n",
       "<table border=\"1\" class=\"dataframe\">\n",
       "  <thead>\n",
       "    <tr style=\"text-align: right;\">\n",
       "      <th></th>\n",
       "      <th>mancanti</th>\n",
       "    </tr>\n",
       "  </thead>\n",
       "  <tbody>\n",
       "    <tr>\n",
       "      <th>matricola</th>\n",
       "      <td>0</td>\n",
       "    </tr>\n",
       "    <tr>\n",
       "      <th>genere</th>\n",
       "      <td>0</td>\n",
       "    </tr>\n",
       "    <tr>\n",
       "      <th>eta</th>\n",
       "      <td>0</td>\n",
       "    </tr>\n",
       "    <tr>\n",
       "      <th>punteggio</th>\n",
       "      <td>0</td>\n",
       "    </tr>\n",
       "    <tr>\n",
       "      <th>tempo</th>\n",
       "      <td>0</td>\n",
       "    </tr>\n",
       "  </tbody>\n",
       "</table>\n",
       "</div>"
      ],
      "text/plain": [
       "           mancanti\n",
       "matricola         0\n",
       "genere            0\n",
       "eta               0\n",
       "punteggio         0\n",
       "tempo             0"
      ]
     },
     "execution_count": 33,
     "metadata": {},
     "output_type": "execute_result"
    }
   ],
   "source": [
    "valMancanti = {col : data[col].isna().sum() for col in data.columns}\n",
    "\n",
    "dataF = pd.DataFrame(index = valMancanti.keys(), data = valMancanti.values(), columns = ['mancanti'])\n",
    "dataF"
   ]
  },
  {
   "cell_type": "markdown",
   "metadata": {},
   "source": [
    "## Punto 2:\n",
    "Di che tipo è l'attributo **_genere_**? Sulla base della risposta data, visualizzare la **distribuzione** di questo *attributo* fornendo sia una **_formulazione tabulare_** sia un **_grafico_**.  \n",
    "\n",
    "Tutte le scelte vanno opportunamente motivate."
   ]
  },
  {
   "cell_type": "markdown",
   "metadata": {},
   "source": [
    "**RISPOSTA:**  \n",
    "\n",
    "L'attributo **_genere_** è un attributo di tipo **qualitativo binario**.  \n",
    "\n",
    "La **distribuzione** di questo attributo è:"
   ]
  },
  {
   "cell_type": "code",
   "execution_count": 34,
   "metadata": {},
   "outputs": [
    {
     "data": {
      "text/plain": [
       "genere\n",
       "F    360\n",
       "M    308\n",
       "Name: count, dtype: int64"
      ]
     },
     "execution_count": 34,
     "metadata": {},
     "output_type": "execute_result"
    }
   ],
   "source": [
    "data['genere'].value_counts()"
   ]
  },
  {
   "cell_type": "markdown",
   "metadata": {},
   "source": [
    "**_Grafico_**:  \n",
    "Per fornire un grafico della distribuzione di questo attributo è ragionevole disegnare un **_bar plot_**."
   ]
  },
  {
   "cell_type": "code",
   "execution_count": 35,
   "metadata": {},
   "outputs": [
    {
     "data": {
      "text/plain": [
       "<Axes: xlabel='genere'>"
      ]
     },
     "execution_count": 35,
     "metadata": {},
     "output_type": "execute_result"
    },
    {
     "data": {
      "image/png": "[encoded data removed]",
      "text/plain": [
       "<Figure size 640x480 with 1 Axes>"
      ]
     },
     "metadata": {},
     "output_type": "display_data"
    }
   ],
   "source": [
    "data['genere'].value_counts().plot.bar()"
   ]
  },
  {
   "cell_type": "markdown",
   "metadata": {},
   "source": [
    "## Punto 3:\n",
    "Considerate l'attributo **_punteggio_**, e ripetete l'analisi svolta al punto precedente, valutando se debba essere fatta nello stesso modo oppure se debbano essere utilizzati strumenti diversi."
   ]
  },
  {
   "cell_type": "markdown",
   "metadata": {},
   "source": [
    "Poiché **_punteggio_** **NON** è un attributo **qualitativo** come quello precedente, la seguente riga di codice\n",
    "\n",
    "```Python\n",
    "data['punteggio'].value_counts()\n",
    "```\n",
    "\n",
    "Non funzionerebbe correttamente.\n",
    "\n",
    "A questo punto, poiché **_punteggio_** è un dato **quantitativo continuo**, mi conviene calcolare le **frequenze assolute** all'interno di un preciso **_range_** (per mostrarlo utilizzo un **_formato tabulare_**)."
   ]
  },
  {
   "cell_type": "code",
   "execution_count": 36,
   "metadata": {},
   "outputs": [
    {
     "data": {
      "text/plain": [
       "(17.981, 19.935]    66\n",
       "(19.935, 21.888]    60\n",
       "(16.028, 17.981]    51\n",
       "(12.121, 14.074]    50\n",
       "(21.888, 23.842]    50\n",
       "(10.168, 12.121]    45\n",
       "(14.074, 16.028]    44\n",
       "(25.795, 27.749]    40\n",
       "(8.214, 10.168]     39\n",
       "(23.842, 25.795]    38\n",
       "(27.749, 29.702]    34\n",
       "(4.307, 6.26]       31\n",
       "(29.702, 31.656]    27\n",
       "(6.26, 8.214]       26\n",
       "(31.656, 33.61]     23\n",
       "(2.354, 4.307]      18\n",
       "(0.36, 2.354]       17\n",
       "(33.61, 35.563]      7\n",
       "(37.516, 39.47]      2\n",
       "(35.563, 37.516]     0\n",
       "Name: count, dtype: int64"
      ]
     },
     "execution_count": 36,
     "metadata": {},
     "output_type": "execute_result"
    }
   ],
   "source": [
    "data['punteggio'].value_counts(bins = 20)"
   ]
  },
  {
   "cell_type": "markdown",
   "metadata": {},
   "source": [
    "Si può fare anche così:"
   ]
  },
  {
   "cell_type": "code",
   "execution_count": 37,
   "metadata": {},
   "outputs": [
    {
     "data": {
      "text/plain": [
       "(20.0, 23.0]    86\n",
       "(17.0, 20.0]    85\n",
       "(14.0, 17.0]    78\n",
       "(11.0, 14.0]    76\n",
       "(23.0, 26.0]    69\n",
       "(8.0, 11.0]     61\n",
       "(26.0, 29.0]    59\n",
       "(4.999, 8.0]    41\n",
       "(29.0, 32.0]    41\n",
       "(32.0, 35.0]    23\n",
       "(38.0, 41.0]     2\n",
       "(35.0, 38.0]     0\n",
       "(41.0, 44.0]     0\n",
       "Name: count, dtype: int64"
      ]
     },
     "execution_count": 37,
     "metadata": {},
     "output_type": "execute_result"
    }
   ],
   "source": [
    "data['punteggio'].value_counts(bins = range(5, 45, 3))"
   ]
  },
  {
   "cell_type": "markdown",
   "metadata": {},
   "source": [
    "## Punto 4:\n",
    "\n",
    "Valutate l'ipotesi che vi sia una **relazione tra gli attributi punteggio e tempo**, specificando eventualmente il tipo e la forza della relazione determinata.  \n",
    "Quali strumenti avete utilizzato per valutare questa ipotesi? Perché?"
   ]
  },
  {
   "cell_type": "markdown",
   "metadata": {},
   "source": [
    "Per valutare una **relazione fra attributi**, lo strumento più adatto è l'utilizzo di uno **_scatter plot_**."
   ]
  },
  {
   "cell_type": "code",
   "execution_count": 38,
   "metadata": {},
   "outputs": [
    {
     "data": {
      "image/png": "[encoded data removed]",
      "text/plain": [
       "<Figure size 640x480 with 1 Axes>"
      ]
     },
     "metadata": {},
     "output_type": "display_data"
    }
   ],
   "source": [
    "data.plot.scatter('tempo', 'punteggio')\n",
    "plt.show()"
   ]
  },
  {
   "cell_type": "markdown",
   "metadata": {},
   "source": [
    "Da questo grafico è possibile notare che all'aumentare del valore del **_tempo_**, aumenta allo stesso modo il valore del **_punteggio_**.  \n",
    "Dunque, è possibile concludere che **esista la relazione fra i 2 attributi presi in esame**."
   ]
  },
  {
   "cell_type": "markdown",
   "metadata": {},
   "source": [
    "## Punto 5:\n",
    "Gli esperti del centro di formazione sospettano che l'attributo **_punteggio_** dovrebbe essere descritto da una _distribuzione analoga a quella studiata nell'Esercizio 1_.  \n",
    "Scegliete uno strumento che ha senso utilizzare per validare questa ipotesi e applicatelo, commentando i risultati ottenuti."
   ]
  },
  {
   "cell_type": "markdown",
   "metadata": {},
   "source": [
    "Per capire se l'ipotesi sia corretta, come prima cosa analizzo il grafico della **_funzione di densità_** della distribuzione del punto 1 e, nell'analisi del grafico stesso (unitamente a quello della **_funzione di ripartizione_**), ho concluso che si trattasse di un tipo particolare di distribuzione *molto simile a quella del modello normale Gaussiano*.  \n",
    "A questo punto, non devo fare altro che:  \n",
    "1. Graficare la distribuzione dell'attributo **_punteggio_** con un **istogramma**;\n",
    "2. Osservare il grafico ottenuto e confrontarlo qualitativamente con quello della **_funzione di densità_** disegnato nell'[esercizio 1](#esercizio-1);\n",
    "3. Trarre eventuali conclusioni circa la similarità delle 2 distribuzioni."
   ]
  },
  {
   "cell_type": "code",
   "execution_count": 39,
   "metadata": {},
   "outputs": [
    {
     "data": {
      "text/plain": [
       "<Axes: ylabel='Frequency'>"
      ]
     },
     "execution_count": 39,
     "metadata": {},
     "output_type": "execute_result"
    },
    {
     "data": {
      "image/png": "[encoded data removed]",
      "text/plain": [
       "<Figure size 640x480 with 1 Axes>"
      ]
     },
     "metadata": {},
     "output_type": "display_data"
    }
   ],
   "source": [
    "data['punteggio'].plot.hist(bins = 20, density = True)"
   ]
  },
  {
   "cell_type": "markdown",
   "metadata": {},
   "source": [
    "Ho scelto di utilizzare un **_istogramma_** perché mi permette di visualizzare le **frequenze** dei dati relativi al _punteggio_ in maniera chiara.  \n",
    "Un **_diagramma a barre_**, in questo caso, non mi sarebbe servito per avere a disposizione una visualizzazione pulita di questo dato **quantitativo continuo**."
   ]
  },
  {
   "cell_type": "markdown",
   "metadata": {},
   "source": [
    "Ricordiamo che il grafico della **_funzione di densità_** è il seguente:"
   ]
  },
  {
   "cell_type": "code",
   "execution_count": 40,
   "metadata": {},
   "outputs": [
    {
     "data": {
      "image/png": "[encoded data removed]",
      "text/plain": [
       "<Figure size 640x480 with 1 Axes>"
      ]
     },
     "metadata": {},
     "output_type": "display_data"
    }
   ],
   "source": [
    "import pandas as pd\n",
    "import matplotlib.pyplot as plt\n",
    "\n",
    "def f(x, a):\n",
    "  return 6 / a**3 * (a*x - x**2)\n",
    "\n",
    "x = np.arange(0, 1, 0.01)\n",
    "a = 1 / 2\n",
    "\n",
    "y = f(x, a)\n",
    "plt.plot(x, y)\n",
    "\n",
    "plt.xlabel('X')\n",
    "plt.ylabel('f(X)')\n",
    "plt.title(f'Grafico f(X) = 6 / a^3 * (ax - x^2)')\n",
    "\n",
    "plt.ylim(0, 3.5)\n",
    "plt.xlim(0.0, 0.5)\n",
    "\n",
    "plt.grid(True)\n",
    "plt.show()"
   ]
  },
  {
   "cell_type": "markdown",
   "metadata": {},
   "source": [
    "**Conclusione**: osservando i 2 grafici, posso dedurre che l'**_istogramma_** della distribuzione dell'attributo **_punteggio_** sia molto simile a quello \"_a campana_\" della **_funzione di densità_** del primo esercizio; questo ci dà modo di concludere che **il sospetto del centro di formazione era fondato e corretto**."
   ]
  },
  {
   "cell_type": "markdown",
   "metadata": {},
   "source": [
    "# Esercizio 4\n",
    "\n",
    "Questo esercizio racchiude **tutti** i _macro-argomenti_ visti durante il corso.  \n",
    "\n",
    "## Quesito 1\n",
    "Sulla base della soluzione proposta per l'esercizio 2, una stima di $a$ è già stata calcolata, ed è $2 \\overline X$.  \n",
    "\n",
    "Ricordiamo inoltre che $\\overline X$ è la **_media campionaria_**: $\\overline X = \\frac{1}{n} \\cdot \\sum_{i=1}^{n} x_{i}$"
   ]
  },
  {
   "cell_type": "code",
   "execution_count": 41,
   "metadata": {},
   "outputs": [
    {
     "data": {
      "text/plain": [
       "np.float64(17.96232035928144)"
      ]
     },
     "execution_count": 41,
     "metadata": {},
     "output_type": "execute_result"
    }
   ],
   "source": [
    "media = data['punteggio'].mean()\n",
    "media"
   ]
  },
  {
   "cell_type": "markdown",
   "metadata": {},
   "source": [
    "Approssimo la media appena calcolata a $18$ e la moltiplico per $2$."
   ]
  },
  {
   "cell_type": "code",
   "execution_count": 42,
   "metadata": {},
   "outputs": [
    {
     "data": {
      "text/plain": [
       "np.float64(35.92464071856288)"
      ]
     },
     "execution_count": 42,
     "metadata": {},
     "output_type": "execute_result"
    }
   ],
   "source": [
    "mediaDoppia = 2 * media\n",
    "mediaDoppia"
   ]
  },
  {
   "cell_type": "markdown",
   "metadata": {},
   "source": [
    "## Quesito 2\n",
    "\n",
    "Calcolo finale della probabilità in base alla risoluzione dell'esercizio 2.7 e al calcolo dello stimatore per $a$:  "
   ]
  },
  {
   "cell_type": "code",
   "execution_count": 43,
   "metadata": {},
   "outputs": [
    {
     "data": {
      "text/plain": [
       "np.float64(0.024827473817669254)"
      ]
     },
     "execution_count": 43,
     "metadata": {},
     "output_type": "execute_result"
    }
   ],
   "source": [
    "import scipy\n",
    "import math\n",
    "\n",
    "sigmaStimata = math.sqrt(mediaDoppia**2 / 5 * len(data))\n",
    "\n",
    "probabilita = 1 - 2 * scipy.special.ndtr(-math.sqrt(len(data)) / (2 * sigmaStimata))\n",
    "probabilita"
   ]
  },
  {
   "cell_type": "markdown",
   "metadata": {},
   "source": [
    "## Quesito 3\n",
    "\n",
    "Considerando che il test si considera superato nel momento in cui il **_punteggio_** è superiore a $21$, per calcolare la **_frequenza_** di questo evento e confrontarlo con $P(X > 21)$, devo:  \n",
    "1. \"Ribaltare\" la probabilità per _sfruttare_ la **_funzione di ripartizione_** del primo esercizio;\n",
    "2. Effettuare i calcoli del caso;\n",
    "3. Sostituire $a$ e $u$ (i parametri di $F_X(u)$) con lo stimatore per $a$ calcolato prima e 21."
   ]
  },
  {
   "cell_type": "markdown",
   "metadata": {},
   "source": [
    "#### Primo passaggio:\n",
    "Avendo $P(X > 21)$, \"ribaltarla\" significa scrivere $1 - (X \\leq 21)$  \n",
    "Ora posso sostituire i termini sfruttando la **_funzione di ripartizione_** $F_X(21)$  \n",
    "$1 - \\frac{3a \\cdot 21^2 - 2 \\cdot 21^3}{a^3}$  \n",
    "\n",
    "Sostituisco ad $a$ il valore della **_media campionaria_** moltiplicato per $2$ (corrisponde a ciò che ho scritto nel primo punto di questo esercizio)."
   ]
  },
  {
   "cell_type": "markdown",
   "metadata": {},
   "source": [
    "#### Secondo e terzo passaggio:\n",
    "Avendo appurato che $\\overline X$ è, approssimata, $18$, sostituisco anche $a$ con $2 \\overline X$, ovvero $2 \\cdot 18 = 36$ nella formula scritta precedentemente (i risultati sono simili e quindi accettabili):\n",
    "\n",
    "$1 - \\frac{3 \\cdot 36 \\cdot 21^2 - 2 \\cdot 21^3}{36^3}$  \n",
    "\n",
    "Risultato della funzione:"
   ]
  },
  {
   "cell_type": "code",
   "execution_count": 44,
   "metadata": {},
   "outputs": [
    {
     "data": {
      "text/plain": [
       "np.float64(0.3743736541584678)"
      ]
     },
     "execution_count": 44,
     "metadata": {},
     "output_type": "execute_result"
    }
   ],
   "source": [
    "risFunzione = 1 - ((3 * mediaDoppia * (21**2) - 2 * (21**3)) / mediaDoppia**3)\n",
    "risFunzione"
   ]
  },
  {
   "cell_type": "markdown",
   "metadata": {},
   "source": [
    "Adesso devo calcolare **la frequenza dell'evento che mi interessa, ovvero** $P(X > 21)$, **nel dataset**:"
   ]
  },
  {
   "cell_type": "code",
   "execution_count": 45,
   "metadata": {},
   "outputs": [
    {
     "data": {
      "text/plain": [
       "0.38023952095808383"
      ]
     },
     "execution_count": 45,
     "metadata": {},
     "output_type": "execute_result"
    }
   ],
   "source": [
    "passati = len(data[data['punteggio'] > 21])\n",
    "totali = len(data)\n",
    "\n",
    "probEsameSuperato = passati / totali\n",
    "probEsameSuperato"
   ]
  },
  {
   "cell_type": "markdown",
   "metadata": {},
   "source": [
    "## Quesito 4\n",
    "\n",
    "La **_variabile aleatoria_** $Y$ segue una **_distribuzione binomiale_**, poiché si tratta di un modello che *è descritto da una variabile aleatoria che denota il numero di successi della ripetizione per n volte in modo indipendente di un esperimento Bernoulliano di parametro p*.  \n",
    "\n",
    "**_Formula del binomio:_** $\\binom{n}{x} = \\frac{n!}{x! (n - x)!}$\n",
    "\n",
    "Effettuo i calcoli delle probabilità che richiede l'esercizio:  \n",
    "1. La probabilità che 3 persone svolgano il test nella stessa tornata e lo superino tutte:  \n",
    "Utilizzo la **_funzione di massa di probabilità_**, poiché devo trovare $P(X = 3)$; ricordiamo che, nel **_modello bernoulliano_**, $f_X(x) = \\binom{n}{x} \\cdot p^x \\cdot (1 - p)^{(n-x)}$  \n",
    "Sappiamo che $n = N. tot.$ $persone$ $(3)$, mentre $x = N. tot.$ $successi$ $(3) \\Rightarrow$ e il parametro $p$, calcolato prima, è $0,38$  \n",
    "\n",
    "Il calcolo conviene effettuarlo utilizzando **_Python_**."
   ]
  },
  {
   "cell_type": "code",
   "execution_count": 46,
   "metadata": {},
   "outputs": [
    {
     "data": {
      "text/plain": [
       "0.05497582589491318"
      ]
     },
     "execution_count": 46,
     "metadata": {},
     "output_type": "execute_result"
    }
   ],
   "source": [
    "# Sappiamo che la probabilità che uno studente supera l'esame, ovvero che abbia un voto > 21, è di 0,38 circa (calcolato precedentemente)\n",
    "# Inoltre il binomiale di n = 3 e x = 3 è 1 (regola fissa: il binomiale di n e n = 1) \n",
    "# Anche (1 - p) ^ (n - x) con n = x dà come risultato 1\n",
    "# CONCLUSIONE: Per trovare il valore di P(X = 3) mi basta elevare la probabilità che uno studente superi un'esame a x (e nel nostro caso x = 3)\n",
    "\n",
    "x = 3\n",
    "prob1 = probEsameSuperato**x\n",
    "prob1"
   ]
  },
  {
   "cell_type": "markdown",
   "metadata": {},
   "source": [
    "2. La probabilità che 3 persone svolgano il test nella stessa tornata, ma solo 1 di esse lo supera:  \n",
    "Anche in questo caso è necessario utilizzare la **_funzione di massa di probabilità_** e trovare $P(X = 1)$;  "
   ]
  },
  {
   "cell_type": "code",
   "execution_count": 48,
   "metadata": {},
   "outputs": [
    {
     "data": {
      "text/plain": [
       "np.float64(0.43815348076839267)"
      ]
     },
     "execution_count": 48,
     "metadata": {},
     "output_type": "execute_result"
    }
   ],
   "source": [
    "# Questa volta il calcolo sarebbe leggermente più complicato, poiché x e n non sono più uguali, ma n = 3 e x = 1\n",
    "# SOLUZIONE: utilizzare la libreria scipy per effettuare il calcolo binomiale\n",
    "\n",
    "x = 1\n",
    "n = 3\n",
    "binomiale1 = scipy.special.binom(n, x)\n",
    "prob2 = binomiale1 * (probEsameSuperato**x) * (1 - probEsameSuperato)**(n - x)\n",
    "prob2"
   ]
  },
  {
   "cell_type": "markdown",
   "metadata": {},
   "source": [
    "3. La probabilità che 3 persone svolgano il test nella stessa tornata e, al più, 1 di esse lo supera:  \n",
    "In questo caso, invece, non devo ricondurmi alla **_funzione di massa di probabilità_**, ma alla **_funzione di ripartizione_** e trovare $P(X \\leq 1)$.  \n",
    "La **_funzione di ripartizione_** nel *modello binomiale* è la seguente: $F_X(x) = \\sum_{i=0}^{x} f_X(i) \\cdot I_{[0, n]}(x) + I_{(n, +\\infty)}(x) \\Rightarrow$  \n",
    "$\\Rightarrow f_X(0) + f_X(1)$  \n",
    "\n",
    "Il resto del calcolo lo effettuo in **_Python_**:"
   ]
  },
  {
   "cell_type": "code",
   "execution_count": 49,
   "metadata": {},
   "outputs": [
    {
     "data": {
      "text/plain": [
       "np.float64(0.6762053718945273)"
      ]
     },
     "execution_count": 49,
     "metadata": {},
     "output_type": "execute_result"
    }
   ],
   "source": [
    "# Devo calcolare solo f(0), poiché al punto precedente ho già calcolato f(1)\n",
    "\n",
    "x = 0\n",
    "n = 3\n",
    "binomiale2 = scipy.special.binom(n, x)\n",
    "prob3 = binomiale2 * (probEsameSuperato**x) * (1 - probEsameSuperato)**(n - x)\n",
    "prob4 = prob2 + prob3\n",
    "prob4"
   ]
  },
  {
   "cell_type": "markdown",
   "metadata": {},
   "source": [
    "## Quesito 5\n",
    "La **_variabile aleatoria_** $Z$ segue una **_distribuzione geometrica_**, poiché il **_modello geometrico_** funziona in modo tale da *ripetere l'esperimento in modo indipendente fino a quando non si verifica l'esperimento stesso*.  \n",
    "\n",
    "1. La probabilità che una persona superi il test al quarto tentativo:  \n",
    "Sappiamo, in maniera *informale*, che la **_funzione di massa_** nel **_modello geometrico_** equivale a calcolare le probabilità che accadano $x$ **insuccessi**, quindi è proprio ciò che fa al caso nostro:  \n",
    "$f_X(x) = P(X = x) = p \\cdot (1-p)^x \\cdot I_{[0, +\\infty)}(x) \\Rightarrow$  \n",
    "$\\Rightarrow P(X = 3) = p \\cdot (1 - p)^3$  \n",
    "\n",
    "Come per il quesito precedente, anche in questo caso è ragionevole effettuare i calcoli tramite **_Python_**:"
   ]
  },
  {
   "cell_type": "code",
   "execution_count": 51,
   "metadata": {},
   "outputs": [
    {
     "data": {
      "text/plain": [
       "0.09051673704496735"
      ]
     },
     "execution_count": 51,
     "metadata": {},
     "output_type": "execute_result"
    }
   ],
   "source": [
    "x = 3\n",
    "prob5 = probEsameSuperato * ((1 - probEsameSuperato))**x\n",
    "prob5"
   ]
  },
  {
   "cell_type": "markdown",
   "metadata": {},
   "source": [
    "2. La probabilità che una persona che non ha superato il test al secondo tentativo deve svolgerlo almeno altre 2 volte prima di superarlo:  \n",
    "sto dunque cercando la probabilità che ci siano **almeno** 4 **insuccessi** $\\Rightarrow P(X = 4)$, ovvero:"
   ]
  },
  {
   "cell_type": "code",
   "execution_count": 52,
   "metadata": {},
   "outputs": [
    {
     "data": {
      "text/plain": [
       "0.05609869631230013"
      ]
     },
     "execution_count": 52,
     "metadata": {},
     "output_type": "execute_result"
    }
   ],
   "source": [
    "x = 4\n",
    "prob6 = probEsameSuperato * ((1 - probEsameSuperato))**x\n",
    "prob6"
   ]
  }
 ],
 "metadata": {
  "kernelspec": {
   "display_name": "Python 3",
   "language": "python",
   "name": "python3"
  },
  "language_info": {
   "codemirror_mode": {
    "name": "ipython",
    "version": 3
   },
   "file_extension": ".py",
   "mimetype": "text/x-python",
   "name": "python",
   "nbconvert_exporter": "python",
   "pygments_lexer": "ipython3",
   "version": "3.12.3"
  }
 },
 "nbformat": 4,
 "nbformat_minor": 2
}
